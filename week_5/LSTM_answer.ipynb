{
 "cells": [
  {
   "cell_type": "code",
   "execution_count": 1,
   "metadata": {},
   "outputs": [],
   "source": [
    "%load_ext autoreload\n",
    "%autoreload 2"
   ]
  },
  {
   "cell_type": "code",
   "execution_count": 2,
   "metadata": {},
   "outputs": [],
   "source": [
    "import sys\n",
    "import pathlib\n",
    "\n",
    "sys.path.append(str(pathlib.Path().cwd().parent))"
   ]
  },
  {
   "cell_type": "code",
   "execution_count": 3,
   "metadata": {},
   "outputs": [
    {
     "name": "stderr",
     "output_type": "stream",
     "text": [
      "/Users/g.sinyakov/ts_autumn/.env/lib/python3.8/site-packages/pandas/compat/__init__.py:124: UserWarning: Could not import the lzma module. Your installed Python is incomplete. Attempting to use lzma compression will result in a RuntimeError.\n",
      "  warnings.warn(msg)\n"
     ]
    }
   ],
   "source": [
    "from typing import Tuple\n",
    "\n",
    "from load_dataset import Dataset\n",
    "from plotting import plot_ts\n",
    "\n",
    "dataset = Dataset('../data/dataset/')"
   ]
  },
  {
   "cell_type": "markdown",
   "metadata": {},
   "source": [
    "### В чем заключаются недостатки полносвязных сетей?\n",
    "* невозможность улавливать временные закономерности в контексте предыдущих точек (архитектурное ограничение)\n",
    "* фиксированный размер входных данных\n",
    "* фиксированный размер выходных данных"
   ]
  },
  {
   "cell_type": "markdown",
   "metadata": {},
   "source": [
    "### Область применимости рекуретных сетей для задачи анализа временных рядов\n",
    "* большое количество экзогенных признаков, имеющих сложную нелинейную зависимость с целевым рядом\n",
    "* очень сложная временная структура имеющая наложение разных сезонных и цикличных паттернов\n",
    "* ряды с часто меняющимся паттерном, или большим количеством аномалий\n",
    "* когда есть необходимость в нефиксированной длине входных и выходных данных (например многомерные ряды, где для разных компонент хочется предоставить разное количество лагов) "
   ]
  },
  {
   "cell_type": "markdown",
   "metadata": {},
   "source": [
    "### Особенности подготовки данных - необходима нормализация данных, иначе сеть будет плохо сходиться и медленно обучаться."
   ]
  },
  {
   "cell_type": "code",
   "execution_count": 4,
   "metadata": {},
   "outputs": [],
   "source": [
    "import numpy as np\n",
    "import pandas as pd\n",
    "from sklearn.preprocessing import MinMaxScaler"
   ]
  },
  {
   "cell_type": "code",
   "execution_count": 5,
   "metadata": {},
   "outputs": [],
   "source": [
    "data = np.array(range(0, 100, 10)).reshape(-1, 1)"
   ]
  },
  {
   "cell_type": "code",
   "execution_count": 6,
   "metadata": {},
   "outputs": [],
   "source": [
    "scaler = MinMaxScaler((0, 1))"
   ]
  },
  {
   "cell_type": "code",
   "execution_count": 7,
   "metadata": {},
   "outputs": [
    {
     "data": {
      "text/plain": [
       "MinMaxScaler()"
      ]
     },
     "execution_count": 7,
     "metadata": {},
     "output_type": "execute_result"
    }
   ],
   "source": [
    "scaler.fit(data)"
   ]
  },
  {
   "cell_type": "code",
   "execution_count": 8,
   "metadata": {},
   "outputs": [],
   "source": [
    "transformed = scaler.transform(data)"
   ]
  },
  {
   "cell_type": "code",
   "execution_count": 9,
   "metadata": {},
   "outputs": [
    {
     "data": {
      "text/plain": [
       "array([[0.        ],\n",
       "       [0.11111111],\n",
       "       [0.22222222],\n",
       "       [0.33333333],\n",
       "       [0.44444444],\n",
       "       [0.55555556],\n",
       "       [0.66666667],\n",
       "       [0.77777778],\n",
       "       [0.88888889],\n",
       "       [1.        ]])"
      ]
     },
     "execution_count": 9,
     "metadata": {},
     "output_type": "execute_result"
    }
   ],
   "source": [
    "transformed"
   ]
  },
  {
   "cell_type": "code",
   "execution_count": 10,
   "metadata": {},
   "outputs": [],
   "source": [
    "inverse = scaler.inverse_transform(transformed)"
   ]
  },
  {
   "cell_type": "code",
   "execution_count": 11,
   "metadata": {},
   "outputs": [
    {
     "data": {
      "text/plain": [
       "array([[ 0.],\n",
       "       [10.],\n",
       "       [20.],\n",
       "       [30.],\n",
       "       [40.],\n",
       "       [50.],\n",
       "       [60.],\n",
       "       [70.],\n",
       "       [80.],\n",
       "       [90.]])"
      ]
     },
     "execution_count": 11,
     "metadata": {},
     "output_type": "execute_result"
    }
   ],
   "source": [
    "inverse"
   ]
  },
  {
   "cell_type": "markdown",
   "metadata": {},
   "source": [
    "### Особенность подготвки данных - обработка последовательностей разной длины."
   ]
  },
  {
   "cell_type": "code",
   "execution_count": 12,
   "metadata": {},
   "outputs": [],
   "source": [
    "from tensorflow.keras.preprocessing.sequence import pad_sequences"
   ]
  },
  {
   "cell_type": "code",
   "execution_count": 13,
   "metadata": {},
   "outputs": [],
   "source": [
    "sequences = [\n",
    "    [1, 2, 3, 4],\n",
    "    [3, 4, 5],\n",
    "    [5, 6],\n",
    "    [3]\n",
    "]"
   ]
  },
  {
   "cell_type": "code",
   "execution_count": 14,
   "metadata": {},
   "outputs": [
    {
     "data": {
      "text/plain": [
       "array([[1, 2, 3, 4],\n",
       "       [0, 3, 4, 5],\n",
       "       [0, 0, 5, 6],\n",
       "       [0, 0, 0, 3]], dtype=int32)"
      ]
     },
     "execution_count": 14,
     "metadata": {},
     "output_type": "execute_result"
    }
   ],
   "source": [
    "pad_sequences(sequences, padding='pre')"
   ]
  },
  {
   "cell_type": "code",
   "execution_count": 15,
   "metadata": {},
   "outputs": [
    {
     "data": {
      "text/plain": [
       "array([[1, 2, 3, 4],\n",
       "       [3, 4, 5, 0],\n",
       "       [5, 6, 0, 0],\n",
       "       [3, 0, 0, 0]], dtype=int32)"
      ]
     },
     "execution_count": 15,
     "metadata": {},
     "output_type": "execute_result"
    }
   ],
   "source": [
    "pad_sequences(sequences, padding='post')"
   ]
  },
  {
   "cell_type": "code",
   "execution_count": 16,
   "metadata": {},
   "outputs": [
    {
     "data": {
      "text/plain": [
       "array([[3, 4],\n",
       "       [4, 5],\n",
       "       [5, 6],\n",
       "       [0, 3]], dtype=int32)"
      ]
     },
     "execution_count": 16,
     "metadata": {},
     "output_type": "execute_result"
    }
   ],
   "source": [
    "pad_sequences(sequences, maxlen=2)"
   ]
  },
  {
   "cell_type": "code",
   "execution_count": 17,
   "metadata": {},
   "outputs": [
    {
     "data": {
      "text/plain": [
       "array([[1, 2],\n",
       "       [3, 4],\n",
       "       [5, 6],\n",
       "       [0, 3]], dtype=int32)"
      ]
     },
     "execution_count": 17,
     "metadata": {},
     "output_type": "execute_result"
    }
   ],
   "source": [
    "pad_sequences(sequences, maxlen=2, truncating='post')"
   ]
  },
  {
   "cell_type": "markdown",
   "metadata": {},
   "source": [
    "### Какие архитектуры lstm нас интересуют в контексте временных рядов?\n",
    "* one-to-one - предсказание следующей точки по предыдущей - нет\n",
    "* one-to-many - предсказание следующих N точeк про предыдущей - нет\n",
    "* many-to-one - one-step-ahead предсказание - в некоторой степени\n",
    "* many-to-many -  предсказание вектора из следующих m точек по предыдущим n точкам - наибольший интерес"
   ]
  },
  {
   "cell_type": "markdown",
   "metadata": {},
   "source": [
    "### Простая LSTM сеть"
   ]
  },
  {
   "cell_type": "code",
   "execution_count": 18,
   "metadata": {},
   "outputs": [],
   "source": [
    "from tensorflow.keras.models import Sequential\n",
    "from tensorflow.keras.layers import LSTM, Dense"
   ]
  },
  {
   "cell_type": "code",
   "execution_count": 19,
   "metadata": {},
   "outputs": [],
   "source": [
    "ts = dataset['daily-min-temperatures.csv']"
   ]
  },
  {
   "cell_type": "code",
   "execution_count": 20,
   "metadata": {},
   "outputs": [
    {
     "data": {
      "text/plain": [
       "<AxesSubplot:xlabel='1981-01-01'>"
      ]
     },
     "execution_count": 20,
     "metadata": {},
     "output_type": "execute_result"
    },
    {
     "data": {
      "image/png": "[encoded data removed]",
      "text/plain": [
       "<Figure size 1080x360 with 1 Axes>"
      ]
     },
     "metadata": {
      "needs_background": "light"
     },
     "output_type": "display_data"
    }
   ],
   "source": [
    "ts.plot(figsize=(15, 5))"
   ]
  },
  {
   "cell_type": "code",
   "execution_count": 21,
   "metadata": {},
   "outputs": [],
   "source": [
    "def transform_into_matrix(ts: pd.Series, num_lags: int) -> Tuple[np.array]:\n",
    "    \"\"\"\n",
    "    Transforms time series into lags matrix to allow\n",
    "    applying supervised learning algorithms\n",
    "\n",
    "    Parameters\n",
    "    ------------\n",
    "    ts\n",
    "        Time series to transform\n",
    "    num_lags\n",
    "        Number of lags to use\n",
    "\n",
    "    Returns\n",
    "    --------\n",
    "        train, test: np.arrays of shapes (ts-num_lags, num_lags), (num_lags,)\n",
    "    \"\"\"\n",
    "\n",
    "    ts_values = ts.values\n",
    "    data = {}\n",
    "    for i in range(num_lags + 1):\n",
    "        data[f'lag_{num_lags - i}'] = np.roll(ts_values, -i)\n",
    "\n",
    "    lags_matrix = pd.DataFrame(data)[:-num_lags]\n",
    "    lags_matrix.index = ts.index[num_lags:]\n",
    "\n",
    "    return lags_matrix.drop('lag_0', axis=1).values, lags_matrix['lag_0'].values"
   ]
  },
  {
   "cell_type": "code",
   "execution_count": 22,
   "metadata": {},
   "outputs": [],
   "source": [
    "NUM_LAGS = 14\n",
    "X, y = transform_into_matrix(ts, NUM_LAGS)"
   ]
  },
  {
   "cell_type": "code",
   "execution_count": 23,
   "metadata": {},
   "outputs": [
    {
     "data": {
      "text/plain": [
       "array([17.9, 18.8, 14.6, 15.8, 15.8, 15.8, 17.4, 21.8, 20. , 16.2, 13.3,\n",
       "       16.7, 21.5, 25. ])"
      ]
     },
     "execution_count": 23,
     "metadata": {},
     "output_type": "execute_result"
    }
   ],
   "source": [
    "X[0]"
   ]
  },
  {
   "cell_type": "code",
   "execution_count": 24,
   "metadata": {},
   "outputs": [],
   "source": [
    "X = X.reshape((X.shape[0], X.shape[1], 1))"
   ]
  },
  {
   "cell_type": "code",
   "execution_count": 25,
   "metadata": {},
   "outputs": [
    {
     "data": {
      "text/plain": [
       "array([[17.9],\n",
       "       [18.8],\n",
       "       [14.6],\n",
       "       [15.8],\n",
       "       [15.8],\n",
       "       [15.8],\n",
       "       [17.4],\n",
       "       [21.8],\n",
       "       [20. ],\n",
       "       [16.2],\n",
       "       [13.3],\n",
       "       [16.7],\n",
       "       [21.5],\n",
       "       [25. ]])"
      ]
     },
     "execution_count": 25,
     "metadata": {},
     "output_type": "execute_result"
    }
   ],
   "source": [
    "X[0]"
   ]
  },
  {
   "cell_type": "code",
   "execution_count": 26,
   "metadata": {},
   "outputs": [],
   "source": [
    "split_idx = int(len(X)*0.8)\n",
    "X_train, X_test = X[:split_idx], X[split_idx:]\n",
    "y_train, y_test = y[:split_idx], y[split_idx:]"
   ]
  },
  {
   "cell_type": "code",
   "execution_count": 27,
   "metadata": {},
   "outputs": [
    {
     "name": "stderr",
     "output_type": "stream",
     "text": [
      "2021-10-13 18:15:08.643936: I tensorflow/core/platform/cpu_feature_guard.cc:142] This TensorFlow binary is optimized with oneAPI Deep Neural Network Library (oneDNN) to use the following CPU instructions in performance-critical operations:  AVX2 FMA\n",
      "To enable them in other operations, rebuild TensorFlow with the appropriate compiler flags.\n"
     ]
    }
   ],
   "source": [
    "model = Sequential()\n",
    "model.add(LSTM(50, activation='relu', input_shape=(NUM_LAGS, 1)))\n",
    "model.add(Dense(1))\n",
    "model.compile(optimizer='adam', loss='mse')"
   ]
  },
  {
   "cell_type": "code",
   "execution_count": 28,
   "metadata": {
    "collapsed": true
   },
   "outputs": [
    {
     "name": "stderr",
     "output_type": "stream",
     "text": [
      "2021-10-13 18:15:10.786709: I tensorflow/compiler/mlir/mlir_graph_optimization_pass.cc:185] None of the MLIR Optimization Passes are enabled (registered 2)\n"
     ]
    },
    {
     "name": "stdout",
     "output_type": "stream",
     "text": [
      "Epoch 1/100\n",
      "114/114 [==============================] - 1s 4ms/step - loss: 19.0676\n",
      "Epoch 2/100\n",
      "114/114 [==============================] - 0s 3ms/step - loss: 6.1555\n",
      "Epoch 3/100\n",
      "114/114 [==============================] - 0s 3ms/step - loss: 5.9532\n",
      "Epoch 4/100\n",
      "114/114 [==============================] - 0s 3ms/step - loss: 5.9429\n",
      "Epoch 5/100\n",
      "114/114 [==============================] - 1s 5ms/step - loss: 5.8590\n",
      "Epoch 6/100\n",
      "114/114 [==============================] - 0s 3ms/step - loss: 5.8314\n",
      "Epoch 7/100\n",
      "114/114 [==============================] - 0s 4ms/step - loss: 5.8207\n",
      "Epoch 8/100\n",
      "114/114 [==============================] - 0s 4ms/step - loss: 5.8779\n",
      "Epoch 9/100\n",
      "114/114 [==============================] - 0s 4ms/step - loss: 5.8561\n",
      "Epoch 10/100\n",
      "114/114 [==============================] - 0s 3ms/step - loss: 5.7535\n",
      "Epoch 11/100\n",
      "114/114 [==============================] - 0s 4ms/step - loss: 5.8329\n",
      "Epoch 12/100\n",
      "114/114 [==============================] - 0s 3ms/step - loss: 5.8576\n",
      "Epoch 13/100\n",
      "114/114 [==============================] - 0s 4ms/step - loss: 5.8209\n",
      "Epoch 14/100\n",
      "114/114 [==============================] - 0s 3ms/step - loss: 5.7839\n",
      "Epoch 15/100\n",
      "114/114 [==============================] - 0s 3ms/step - loss: 5.7626\n",
      "Epoch 16/100\n",
      "114/114 [==============================] - 0s 4ms/step - loss: 5.7897\n",
      "Epoch 17/100\n",
      "114/114 [==============================] - 0s 3ms/step - loss: 5.7794\n",
      "Epoch 18/100\n",
      "114/114 [==============================] - 0s 4ms/step - loss: 5.7542\n",
      "Epoch 19/100\n",
      "114/114 [==============================] - 0s 3ms/step - loss: 5.8107\n",
      "Epoch 20/100\n",
      "114/114 [==============================] - 0s 3ms/step - loss: 5.8202\n",
      "Epoch 21/100\n",
      "114/114 [==============================] - 0s 3ms/step - loss: 5.7900\n",
      "Epoch 22/100\n",
      "114/114 [==============================] - 0s 3ms/step - loss: 5.8231\n",
      "Epoch 23/100\n",
      "114/114 [==============================] - 0s 4ms/step - loss: 5.7133\n",
      "Epoch 24/100\n",
      "114/114 [==============================] - 0s 4ms/step - loss: 5.7164\n",
      "Epoch 25/100\n",
      "114/114 [==============================] - 0s 3ms/step - loss: 5.7244\n",
      "Epoch 26/100\n",
      "114/114 [==============================] - 1s 5ms/step - loss: 5.7067\n",
      "Epoch 27/100\n",
      "114/114 [==============================] - 0s 4ms/step - loss: 5.7267\n",
      "Epoch 28/100\n",
      "114/114 [==============================] - 0s 4ms/step - loss: 5.7548\n",
      "Epoch 29/100\n",
      "114/114 [==============================] - 0s 3ms/step - loss: 5.6851\n",
      "Epoch 30/100\n",
      "114/114 [==============================] - 0s 4ms/step - loss: 5.7346\n",
      "Epoch 31/100\n",
      "114/114 [==============================] - 0s 3ms/step - loss: 5.7375\n",
      "Epoch 32/100\n",
      "114/114 [==============================] - 0s 3ms/step - loss: 5.6905\n",
      "Epoch 33/100\n",
      "114/114 [==============================] - 0s 4ms/step - loss: 5.6810\n",
      "Epoch 34/100\n",
      "114/114 [==============================] - 0s 3ms/step - loss: 5.7110\n",
      "Epoch 35/100\n",
      "114/114 [==============================] - 0s 3ms/step - loss: 5.6946\n",
      "Epoch 36/100\n",
      "114/114 [==============================] - 0s 3ms/step - loss: 5.6777\n",
      "Epoch 37/100\n",
      "114/114 [==============================] - 0s 3ms/step - loss: 5.6611\n",
      "Epoch 38/100\n",
      "114/114 [==============================] - 0s 3ms/step - loss: 5.6828\n",
      "Epoch 39/100\n",
      "114/114 [==============================] - 1s 4ms/step - loss: 5.6908\n",
      "Epoch 40/100\n",
      "114/114 [==============================] - 0s 4ms/step - loss: 5.6501\n",
      "Epoch 41/100\n",
      "114/114 [==============================] - 0s 4ms/step - loss: 5.6608\n",
      "Epoch 42/100\n",
      "114/114 [==============================] - 0s 4ms/step - loss: 5.6723\n",
      "Epoch 43/100\n",
      "114/114 [==============================] - 0s 4ms/step - loss: 5.7333\n",
      "Epoch 44/100\n",
      "114/114 [==============================] - 1s 5ms/step - loss: 5.6283\n",
      "Epoch 45/100\n",
      "114/114 [==============================] - 1s 5ms/step - loss: 5.6628\n",
      "Epoch 46/100\n",
      "114/114 [==============================] - 0s 4ms/step - loss: 5.6330\n",
      "Epoch 47/100\n",
      "114/114 [==============================] - 0s 4ms/step - loss: 5.6143\n",
      "Epoch 48/100\n",
      "114/114 [==============================] - 0s 4ms/step - loss: 5.6173\n",
      "Epoch 49/100\n",
      "114/114 [==============================] - 0s 4ms/step - loss: 5.6569\n",
      "Epoch 50/100\n",
      "114/114 [==============================] - 0s 3ms/step - loss: 5.6051\n",
      "Epoch 51/100\n",
      "114/114 [==============================] - 0s 3ms/step - loss: 5.6151\n",
      "Epoch 52/100\n",
      "114/114 [==============================] - 0s 4ms/step - loss: 5.6357\n",
      "Epoch 53/100\n",
      "114/114 [==============================] - 0s 4ms/step - loss: 5.6542\n",
      "Epoch 54/100\n",
      "114/114 [==============================] - 0s 4ms/step - loss: 5.6089\n",
      "Epoch 55/100\n",
      "114/114 [==============================] - 0s 3ms/step - loss: 5.6250\n",
      "Epoch 56/100\n",
      "114/114 [==============================] - 0s 3ms/step - loss: 5.6164\n",
      "Epoch 57/100\n",
      "114/114 [==============================] - 0s 4ms/step - loss: 5.6033\n",
      "Epoch 58/100\n",
      "114/114 [==============================] - 0s 4ms/step - loss: 5.6807\n",
      "Epoch 59/100\n",
      "114/114 [==============================] - 0s 4ms/step - loss: 5.5632\n",
      "Epoch 60/100\n",
      "114/114 [==============================] - 0s 4ms/step - loss: 5.5880\n",
      "Epoch 61/100\n",
      "114/114 [==============================] - 0s 4ms/step - loss: 5.5487\n",
      "Epoch 62/100\n",
      "114/114 [==============================] - 0s 4ms/step - loss: 5.5482\n",
      "Epoch 63/100\n",
      "114/114 [==============================] - 0s 4ms/step - loss: 5.5722\n",
      "Epoch 64/100\n",
      "114/114 [==============================] - 0s 4ms/step - loss: 5.5954\n",
      "Epoch 65/100\n",
      "114/114 [==============================] - 0s 4ms/step - loss: 5.5428\n",
      "Epoch 66/100\n",
      "114/114 [==============================] - 0s 4ms/step - loss: 5.5294\n",
      "Epoch 67/100\n",
      "114/114 [==============================] - 0s 4ms/step - loss: 5.5516\n",
      "Epoch 68/100\n",
      "114/114 [==============================] - 0s 4ms/step - loss: 5.5735\n",
      "Epoch 69/100\n",
      "114/114 [==============================] - 0s 4ms/step - loss: 5.5227\n",
      "Epoch 70/100\n",
      "114/114 [==============================] - 0s 4ms/step - loss: 5.5213\n",
      "Epoch 71/100\n",
      "114/114 [==============================] - 0s 4ms/step - loss: 5.5284\n",
      "Epoch 72/100\n",
      "114/114 [==============================] - 0s 3ms/step - loss: 5.4919\n",
      "Epoch 73/100\n",
      "114/114 [==============================] - 0s 4ms/step - loss: 5.4887\n",
      "Epoch 74/100\n",
      "114/114 [==============================] - 0s 4ms/step - loss: 5.5172\n",
      "Epoch 75/100\n",
      "114/114 [==============================] - 0s 4ms/step - loss: 5.5037\n",
      "Epoch 76/100\n",
      "114/114 [==============================] - 0s 4ms/step - loss: 5.4577\n",
      "Epoch 77/100\n",
      "114/114 [==============================] - 0s 4ms/step - loss: 5.4860\n",
      "Epoch 78/100\n",
      "114/114 [==============================] - 0s 4ms/step - loss: 5.4843\n",
      "Epoch 79/100\n",
      "114/114 [==============================] - 0s 3ms/step - loss: 5.4606\n",
      "Epoch 80/100\n",
      "114/114 [==============================] - 0s 4ms/step - loss: 5.4564\n",
      "Epoch 81/100\n",
      "114/114 [==============================] - 0s 4ms/step - loss: 5.4259\n",
      "Epoch 82/100\n",
      "114/114 [==============================] - 0s 3ms/step - loss: 5.4443\n",
      "Epoch 83/100\n",
      "114/114 [==============================] - 0s 4ms/step - loss: 5.3968\n",
      "Epoch 84/100\n",
      "114/114 [==============================] - 0s 4ms/step - loss: 5.3886\n",
      "Epoch 85/100\n",
      "114/114 [==============================] - 0s 4ms/step - loss: 5.4106\n",
      "Epoch 86/100\n",
      "114/114 [==============================] - 0s 4ms/step - loss: 5.4285\n",
      "Epoch 87/100\n",
      "114/114 [==============================] - 0s 4ms/step - loss: 5.4279\n",
      "Epoch 88/100\n",
      "114/114 [==============================] - 0s 4ms/step - loss: 5.4098\n",
      "Epoch 89/100\n",
      "114/114 [==============================] - 0s 4ms/step - loss: 5.4176\n",
      "Epoch 90/100\n",
      "114/114 [==============================] - 0s 4ms/step - loss: 5.3642\n",
      "Epoch 91/100\n",
      "114/114 [==============================] - 0s 4ms/step - loss: 5.4182\n",
      "Epoch 92/100\n",
      "114/114 [==============================] - 0s 4ms/step - loss: 5.3407\n",
      "Epoch 93/100\n",
      "114/114 [==============================] - 0s 4ms/step - loss: 5.3464\n",
      "Epoch 94/100\n",
      "114/114 [==============================] - 0s 4ms/step - loss: 5.3066\n",
      "Epoch 95/100\n",
      "114/114 [==============================] - 0s 4ms/step - loss: 5.3143\n",
      "Epoch 96/100\n",
      "114/114 [==============================] - 0s 4ms/step - loss: 5.3081\n",
      "Epoch 97/100\n",
      "114/114 [==============================] - 0s 4ms/step - loss: 5.2940\n",
      "Epoch 98/100\n",
      "114/114 [==============================] - 0s 4ms/step - loss: 5.2648\n",
      "Epoch 99/100\n"
     ]
    },
    {
     "name": "stdout",
     "output_type": "stream",
     "text": [
      "114/114 [==============================] - 0s 4ms/step - loss: 5.3243\n",
      "Epoch 100/100\n",
      "114/114 [==============================] - 0s 4ms/step - loss: 5.2840\n"
     ]
    },
    {
     "data": {
      "text/plain": [
       "<keras.callbacks.History at 0x15de9e1c0>"
      ]
     },
     "execution_count": 28,
     "metadata": {},
     "output_type": "execute_result"
    }
   ],
   "source": [
    "model.fit(X, y, epochs=100)"
   ]
  },
  {
   "cell_type": "code",
   "execution_count": 30,
   "metadata": {},
   "outputs": [],
   "source": [
    "y_pred = model.predict(X_test)"
   ]
  },
  {
   "cell_type": "code",
   "execution_count": 31,
   "metadata": {},
   "outputs": [
    {
     "data": {
      "text/plain": [
       "<AxesSubplot:>"
      ]
     },
     "execution_count": 31,
     "metadata": {},
     "output_type": "execute_result"
    },
    {
     "data": {
      "image/png": "[encoded data removed]",
      "text/plain": [
       "<Figure size 432x288 with 1 Axes>"
      ]
     },
     "metadata": {
      "needs_background": "light"
     },
     "output_type": "display_data"
    }
   ],
   "source": [
    "pd.Series(y_test.flatten())[-50:].plot()\n",
    "pd.Series(y_pred.flatten())[-50:].plot()"
   ]
  },
  {
   "cell_type": "code",
   "execution_count": 32,
   "metadata": {},
   "outputs": [],
   "source": [
    "### данный результат на самом деле не сильно лучше наивного предсказания"
   ]
  },
  {
   "cell_type": "code",
   "execution_count": 33,
   "metadata": {},
   "outputs": [],
   "source": [
    "from sklearn.metrics import mean_squared_error as mse"
   ]
  },
  {
   "cell_type": "code",
   "execution_count": 34,
   "metadata": {},
   "outputs": [
    {
     "data": {
      "text/plain": [
       "4.347070169266187"
      ]
     },
     "execution_count": 34,
     "metadata": {},
     "output_type": "execute_result"
    }
   ],
   "source": [
    "mse(y_test.flatten(), y_pred.flatten())"
   ]
  },
  {
   "cell_type": "markdown",
   "metadata": {},
   "source": [
    "### Stacked LSTM"
   ]
  },
  {
   "cell_type": "markdown",
   "metadata": {},
   "source": [
    "#### Добавьте дополнительные скрытые слои в сеть (используйте return_sequences=True) и сравните качество"
   ]
  },
  {
   "cell_type": "code",
   "execution_count": 36,
   "metadata": {},
   "outputs": [],
   "source": [
    "model = Sequential()\n",
    "model.add(LSTM(50, activation='relu', input_shape=(NUM_LAGS, 1), return_sequences=True))\n",
    "model.add(LSTM(50, activation='relu', input_shape=(NUM_LAGS, 1)))\n",
    "model.add(Dense(1))\n",
    "model.compile(optimizer='adam', loss='mse')"
   ]
  },
  {
   "cell_type": "code",
   "execution_count": 35,
   "metadata": {
    "scrolled": true
   },
   "outputs": [
    {
     "data": {
      "text/plain": [
       "<keras.callbacks.History at 0x15e9fbc70>"
      ]
     },
     "execution_count": 35,
     "metadata": {},
     "output_type": "execute_result"
    }
   ],
   "source": [
    "model.fit(X_train, y_train, epochs=100, verbose=0)"
   ]
  },
  {
   "cell_type": "code",
   "execution_count": 38,
   "metadata": {},
   "outputs": [],
   "source": [
    "y_pred = model.predict(X_test)"
   ]
  },
  {
   "cell_type": "code",
   "execution_count": 39,
   "metadata": {},
   "outputs": [
    {
     "data": {
      "text/plain": [
       "<AxesSubplot:>"
      ]
     },
     "execution_count": 39,
     "metadata": {},
     "output_type": "execute_result"
    },
    {
     "data": {
      "image/png": "[encoded data removed]",
      "text/plain": [
       "<Figure size 432x288 with 1 Axes>"
      ]
     },
     "metadata": {
      "needs_background": "light"
     },
     "output_type": "display_data"
    }
   ],
   "source": [
    "pd.Series(y_test.flatten())[-50:].plot()\n",
    "pd.Series(y_pred.flatten())[-50:].plot()"
   ]
  },
  {
   "cell_type": "code",
   "execution_count": 40,
   "metadata": {},
   "outputs": [
    {
     "data": {
      "text/plain": [
       "5.093649144732627"
      ]
     },
     "execution_count": 40,
     "metadata": {},
     "output_type": "execute_result"
    }
   ],
   "source": [
    "mse(y_test.flatten(), y_pred.flatten())"
   ]
  },
  {
   "cell_type": "markdown",
   "metadata": {},
   "source": [
    "### Bidirectional LSTM"
   ]
  },
  {
   "cell_type": "markdown",
   "metadata": {},
   "source": [
    "#### Сделаем LSTM слой сети Bidirectional при помощи доп слоя Biderectional и сравним качество"
   ]
  },
  {
   "cell_type": "code",
   "execution_count": 36,
   "metadata": {},
   "outputs": [],
   "source": [
    "from tensorflow.keras.layers import Bidirectional\n",
    "\n",
    "model = Sequential()\n",
    "model.add(LSTM(50, activation='relu', input_shape=(NUM_LAGS, 1), return_sequences=True))\n",
    "model.add(Bidirectional(LSTM(50, activation='relu', input_shape=(NUM_LAGS, 1))))\n",
    "model.add(Dense(1))\n",
    "model.compile(optimizer='adam', loss='mse')"
   ]
  },
  {
   "cell_type": "code",
   "execution_count": 46,
   "metadata": {},
   "outputs": [
    {
     "data": {
      "text/plain": [
       "<tensorflow.python.keras.callbacks.History at 0x1812e4580>"
      ]
     },
     "execution_count": 46,
     "metadata": {},
     "output_type": "execute_result"
    }
   ],
   "source": [
    "model.fit(X_train, y_train, epochs=10, verbose=0)"
   ]
  },
  {
   "cell_type": "code",
   "execution_count": 47,
   "metadata": {},
   "outputs": [],
   "source": [
    "y_pred = model.predict(X_test)"
   ]
  },
  {
   "cell_type": "code",
   "execution_count": 48,
   "metadata": {},
   "outputs": [
    {
     "data": {
      "text/plain": [
       "4.907579474315925"
      ]
     },
     "execution_count": 48,
     "metadata": {},
     "output_type": "execute_result"
    }
   ],
   "source": [
    "mse(y_test.flatten(), y_pred.flatten())"
   ]
  },
  {
   "cell_type": "markdown",
   "metadata": {},
   "source": [
    "### Seq2Seq LSTM - когда нужно сделать предсказание на несколько точек вперед"
   ]
  },
  {
   "cell_type": "markdown",
   "metadata": {},
   "source": [
    "#### Подготовим данные"
   ]
  },
  {
   "cell_type": "code",
   "execution_count": 101,
   "metadata": {},
   "outputs": [],
   "source": [
    "from typing import Tuple\n",
    "\n",
    "def transform_ts_into_matrix(ts: pd.Series, num_lags_in: int, num_lags_out: int) -> Tuple[np.array, np.array]:\n",
    "    \"\"\"\n",
    "    Данная функция должна пройтись скользящим окном по временному ряду и для каждых\n",
    "    num_lags_in точек в качестве признаков собрать num_lags_out следующих точек в качестве таргета.\n",
    "    \n",
    "    Вернуть два np.array массива из X_train и y_train соответственно\n",
    "    \"\"\"\n",
    "    sequence = ts.values\n",
    "    X, y = list(), list()\n",
    "    i = 0\n",
    "    outer_idx = num_lags_out\n",
    "    while outer_idx < len(sequence):\n",
    "        inner_idx = i + num_lags_in\n",
    "        outer_idx = inner_idx + num_lags_out\n",
    "        X_, y_ = sequence[i:inner_idx], sequence[inner_idx:outer_idx]\n",
    "        X.append(X_)\n",
    "        y.append(y_)\n",
    "        i += 1\n",
    "    return np.array(X), np.array(y)"
   ]
  },
  {
   "cell_type": "code",
   "execution_count": 102,
   "metadata": {},
   "outputs": [],
   "source": [
    "# получите X и y при помощи предыдущей функции и разбейте на трейн и тест \n",
    "NUM_LAGS_IN = 28\n",
    "NUM_LAGS_OUT = 7\n",
    "\n",
    "X, y = transform_ts_into_matrix(ts, NUM_LAGS_IN, NUM_LAGS_OUT)"
   ]
  },
  {
   "cell_type": "code",
   "execution_count": 103,
   "metadata": {},
   "outputs": [],
   "source": [
    "X = X.reshape((X.shape[0], X.shape[1], 1))"
   ]
  },
  {
   "cell_type": "code",
   "execution_count": 104,
   "metadata": {},
   "outputs": [
    {
     "data": {
      "text/plain": [
       "(3615, 28, 1)"
      ]
     },
     "execution_count": 104,
     "metadata": {},
     "output_type": "execute_result"
    }
   ],
   "source": [
    "X.shape"
   ]
  },
  {
   "cell_type": "code",
   "execution_count": 105,
   "metadata": {},
   "outputs": [
    {
     "data": {
      "text/plain": [
       "(3615, 7)"
      ]
     },
     "execution_count": 105,
     "metadata": {},
     "output_type": "execute_result"
    }
   ],
   "source": [
    "y.shape"
   ]
  },
  {
   "cell_type": "code",
   "execution_count": 106,
   "metadata": {},
   "outputs": [],
   "source": [
    "split_idx = int(len(X)*0.8)\n",
    "X_train, X_test = X[:split_idx], X[split_idx:]\n",
    "y_train, y_test = y[:split_idx], y[split_idx:]"
   ]
  },
  {
   "cell_type": "code",
   "execution_count": 107,
   "metadata": {},
   "outputs": [],
   "source": [
    "# объявим енкодер\n",
    "model = Sequential()\n",
    "model.add(LSTM(100, activation='relu', input_shape=(NUM_LAGS_IN, 1)))"
   ]
  },
  {
   "cell_type": "code",
   "execution_count": 108,
   "metadata": {},
   "outputs": [],
   "source": [
    "# добавим промежуточный слой, преобразующий выход с енкодера для входного слоя в декодер\n",
    "from tensorflow.keras.layers import RepeatVector\n",
    "model.add(RepeatVector(NUM_LAGS_OUT))"
   ]
  },
  {
   "cell_type": "code",
   "execution_count": 109,
   "metadata": {},
   "outputs": [],
   "source": [
    "# обьявим декодер\n",
    "model.add(LSTM(50, activation='relu', return_sequences=True))"
   ]
  },
  {
   "cell_type": "code",
   "execution_count": 110,
   "metadata": {},
   "outputs": [],
   "source": [
    "# обьявим выходной слой - размерность на выходе получается при помощи дополнительного слоя TimeDistributed\n",
    "from tensorflow.keras.layers import TimeDistributed\n",
    "model.add(TimeDistributed(Dense(1)))"
   ]
  },
  {
   "cell_type": "markdown",
   "metadata": {},
   "source": [
    "#### Обучим модель и получим предсказание на тесте"
   ]
  },
  {
   "cell_type": "code",
   "execution_count": 111,
   "metadata": {},
   "outputs": [],
   "source": [
    "model.compile(optimizer='adam', loss='mse')"
   ]
  },
  {
   "cell_type": "code",
   "execution_count": 112,
   "metadata": {},
   "outputs": [
    {
     "name": "stdout",
     "output_type": "stream",
     "text": [
      "Model: \"sequential_10\"\n",
      "_________________________________________________________________\n",
      "Layer (type)                 Output Shape              Param #   \n",
      "=================================================================\n",
      "lstm_17 (LSTM)               (None, 100)               40800     \n",
      "_________________________________________________________________\n",
      "repeat_vector_4 (RepeatVecto (None, 7, 100)            0         \n",
      "_________________________________________________________________\n",
      "lstm_18 (LSTM)               (None, 7, 50)             30200     \n",
      "_________________________________________________________________\n",
      "time_distributed_3 (TimeDist (None, 7, 1)              51        \n",
      "=================================================================\n",
      "Total params: 71,051\n",
      "Trainable params: 71,051\n",
      "Non-trainable params: 0\n",
      "_________________________________________________________________\n"
     ]
    }
   ],
   "source": [
    "model.summary()"
   ]
  },
  {
   "cell_type": "code",
   "execution_count": 113,
   "metadata": {},
   "outputs": [
    {
     "data": {
      "text/plain": [
       "<tensorflow.python.keras.callbacks.History at 0x18291d550>"
      ]
     },
     "execution_count": 113,
     "metadata": {},
     "output_type": "execute_result"
    }
   ],
   "source": [
    "model.fit(X_train, y_train, epochs=10, verbose=0)"
   ]
  },
  {
   "cell_type": "code",
   "execution_count": 114,
   "metadata": {},
   "outputs": [],
   "source": [
    "y_pred = model.predict(X_test)"
   ]
  },
  {
   "cell_type": "code",
   "execution_count": 116,
   "metadata": {},
   "outputs": [
    {
     "data": {
      "text/plain": [
       "array([12.870769, 13.02462 , 13.209654, ..., 12.704237, 12.733856,\n",
       "       12.774046], dtype=float32)"
      ]
     },
     "execution_count": 116,
     "metadata": {},
     "output_type": "execute_result"
    }
   ],
   "source": [
    "y_pred.flatten()"
   ]
  },
  {
   "cell_type": "code",
   "execution_count": 117,
   "metadata": {},
   "outputs": [
    {
     "data": {
      "text/plain": [
       "7.63902093015639"
      ]
     },
     "execution_count": 117,
     "metadata": {},
     "output_type": "execute_result"
    }
   ],
   "source": [
    "mse(y_test.flatten(), y_pred.flatten())"
   ]
  },
  {
   "cell_type": "markdown",
   "metadata": {},
   "source": [
    "### Пример с многомерным рядом."
   ]
  },
  {
   "cell_type": "code",
   "execution_count": 119,
   "metadata": {},
   "outputs": [],
   "source": [
    "ts_multi = pd.read_csv('../data/stability_index.csv', index_col='timestamp', parse_dates=True)"
   ]
  },
  {
   "cell_type": "code",
   "execution_count": 120,
   "metadata": {},
   "outputs": [],
   "source": [
    "ts_multi.fillna(ts_multi.mean(), axis=0, inplace=True)"
   ]
  },
  {
   "cell_type": "code",
   "execution_count": 121,
   "metadata": {},
   "outputs": [
    {
     "data": {
      "text/html": [
       "<div>\n",
       "<style scoped>\n",
       "    .dataframe tbody tr th:only-of-type {\n",
       "        vertical-align: middle;\n",
       "    }\n",
       "\n",
       "    .dataframe tbody tr th {\n",
       "        vertical-align: top;\n",
       "    }\n",
       "\n",
       "    .dataframe thead th {\n",
       "        text-align: right;\n",
       "    }\n",
       "</style>\n",
       "<table border=\"1\" class=\"dataframe\">\n",
       "  <thead>\n",
       "    <tr style=\"text-align: right;\">\n",
       "      <th></th>\n",
       "      <th>1</th>\n",
       "      <th>2</th>\n",
       "      <th>3</th>\n",
       "      <th>4</th>\n",
       "      <th>5</th>\n",
       "      <th>6</th>\n",
       "      <th>7</th>\n",
       "      <th>8</th>\n",
       "      <th>9</th>\n",
       "    </tr>\n",
       "    <tr>\n",
       "      <th>timestamp</th>\n",
       "      <th></th>\n",
       "      <th></th>\n",
       "      <th></th>\n",
       "      <th></th>\n",
       "      <th></th>\n",
       "      <th></th>\n",
       "      <th></th>\n",
       "      <th></th>\n",
       "      <th></th>\n",
       "    </tr>\n",
       "  </thead>\n",
       "  <tbody>\n",
       "    <tr>\n",
       "      <th>2020-01-15 13:00:00</th>\n",
       "      <td>205.0</td>\n",
       "      <td>92.0</td>\n",
       "      <td>63.0</td>\n",
       "      <td>55.0</td>\n",
       "      <td>26.0</td>\n",
       "      <td>27.0</td>\n",
       "      <td>20.0</td>\n",
       "      <td>34.0</td>\n",
       "      <td>155.0</td>\n",
       "    </tr>\n",
       "    <tr>\n",
       "      <th>2020-01-15 14:00:00</th>\n",
       "      <td>173.0</td>\n",
       "      <td>97.0</td>\n",
       "      <td>69.0</td>\n",
       "      <td>44.0</td>\n",
       "      <td>31.0</td>\n",
       "      <td>22.0</td>\n",
       "      <td>41.0</td>\n",
       "      <td>26.0</td>\n",
       "      <td>182.0</td>\n",
       "    </tr>\n",
       "    <tr>\n",
       "      <th>2020-01-15 15:00:00</th>\n",
       "      <td>145.0</td>\n",
       "      <td>83.0</td>\n",
       "      <td>73.0</td>\n",
       "      <td>58.0</td>\n",
       "      <td>40.0</td>\n",
       "      <td>25.0</td>\n",
       "      <td>31.0</td>\n",
       "      <td>19.0</td>\n",
       "      <td>167.0</td>\n",
       "    </tr>\n",
       "    <tr>\n",
       "      <th>2020-01-15 16:00:00</th>\n",
       "      <td>84.0</td>\n",
       "      <td>60.0</td>\n",
       "      <td>53.0</td>\n",
       "      <td>39.0</td>\n",
       "      <td>32.0</td>\n",
       "      <td>31.0</td>\n",
       "      <td>19.0</td>\n",
       "      <td>15.0</td>\n",
       "      <td>102.0</td>\n",
       "    </tr>\n",
       "    <tr>\n",
       "      <th>2020-01-15 17:00:00</th>\n",
       "      <td>117.0</td>\n",
       "      <td>77.0</td>\n",
       "      <td>40.0</td>\n",
       "      <td>53.0</td>\n",
       "      <td>33.0</td>\n",
       "      <td>29.0</td>\n",
       "      <td>21.0</td>\n",
       "      <td>30.0</td>\n",
       "      <td>160.0</td>\n",
       "    </tr>\n",
       "  </tbody>\n",
       "</table>\n",
       "</div>"
      ],
      "text/plain": [
       "                         1     2     3     4     5     6     7     8      9\n",
       "timestamp                                                                  \n",
       "2020-01-15 13:00:00  205.0  92.0  63.0  55.0  26.0  27.0  20.0  34.0  155.0\n",
       "2020-01-15 14:00:00  173.0  97.0  69.0  44.0  31.0  22.0  41.0  26.0  182.0\n",
       "2020-01-15 15:00:00  145.0  83.0  73.0  58.0  40.0  25.0  31.0  19.0  167.0\n",
       "2020-01-15 16:00:00   84.0  60.0  53.0  39.0  32.0  31.0  19.0  15.0  102.0\n",
       "2020-01-15 17:00:00  117.0  77.0  40.0  53.0  33.0  29.0  21.0  30.0  160.0"
      ]
     },
     "execution_count": 121,
     "metadata": {},
     "output_type": "execute_result"
    }
   ],
   "source": [
    "ts_multi.head()"
   ]
  },
  {
   "cell_type": "code",
   "execution_count": 181,
   "metadata": {},
   "outputs": [],
   "source": [
    "def transform_multi_ts_into_matrix(ts: pd.DataFrame, num_lags: int):\n",
    "    \"\"\"\n",
    "    Данная функция должна пройтись скользящим окном по временному ряду\n",
    "    и собрать в качестве признаков X np.array размерности (len(ts)-num_lags, n_dims, num_lags),\n",
    "    а в качестве y np.array размерности (len(ts)-num_lags, n_dims),\n",
    "    где n_dims - размерность многомерного ряда.\n",
    "    \n",
    "    То есть для всех компонент временного ряда мы должны взять num_lags предыдущих точек каждой компонент\n",
    "    в качестве признаков и все компоненты текущей точки в качестве target\n",
    "    \"\"\"\n",
    "    sequence = ts.values\n",
    "    X, y = list(), list()\n",
    "    i = 0\n",
    "    end_i = num_lags\n",
    "    while end_i < len(sequence): \n",
    "        seq_x, seq_y = sequence[i:end_i], sequence[end_i]\n",
    "        X.append(seq_x)\n",
    "        y.append(seq_y)\n",
    "        i += 1\n",
    "        end_i = i + num_lags\n",
    "    return np.array(X), np.array(y)"
   ]
  },
  {
   "cell_type": "code",
   "execution_count": 182,
   "metadata": {},
   "outputs": [
    {
     "data": {
      "text/plain": [
       "array([[205.,  92.,  63.,  55.,  26.,  27.,  20.,  34., 155.],\n",
       "       [173.,  97.,  69.,  44.,  31.,  22.,  41.,  26., 182.],\n",
       "       [145.,  83.,  73.,  58.,  40.,  25.,  31.,  19., 167.],\n",
       "       [ 84.,  60.,  53.,  39.,  32.,  31.,  19.,  15., 102.],\n",
       "       [117.,  77.,  40.,  53.,  33.,  29.,  21.,  30., 160.],\n",
       "       [112.,  59.,  66.,  50.,  24.,  29.,  19.,  23., 145.],\n",
       "       [119.,  64.,  53.,  41.,  32.,  29.,  29.,  22., 140.],\n",
       "       [105.,  44.,  44.,  42.,  28.,  19.,  27.,  11., 142.],\n",
       "       [106.,  36.,  49.,  33.,  19.,  30.,  23.,  20., 115.],\n",
       "       [ 72.,  46.,  32.,  26.,  15.,  25.,  20.,  17.,  85.],\n",
       "       [ 61.,  32.,  23.,  14.,  15.,  19.,   9.,   8.,  69.],\n",
       "       [ 53.,  26.,  13.,  21.,  11.,  12.,   6.,   6.,  55.],\n",
       "       [ 32.,  21.,  11.,   9.,   6.,   7.,   5.,   7.,  58.],\n",
       "       [ 16.,  23.,  11.,   5.,   9.,   6.,   9.,  11.,  30.]])"
      ]
     },
     "execution_count": 182,
     "metadata": {},
     "output_type": "execute_result"
    }
   ],
   "source": [
    "X[0]"
   ]
  },
  {
   "cell_type": "code",
   "execution_count": 188,
   "metadata": {},
   "outputs": [],
   "source": [
    "NUM_LAGS = 14\n",
    "N_DIMS = ts_multi.shape[1]\n",
    "X, y = transform_multi_ts_into_matrix(ts_multi, NUM_LAGS)"
   ]
  },
  {
   "cell_type": "code",
   "execution_count": 184,
   "metadata": {},
   "outputs": [
    {
     "data": {
      "text/plain": [
       "(14, 9)"
      ]
     },
     "execution_count": 184,
     "metadata": {},
     "output_type": "execute_result"
    }
   ],
   "source": [
    "X[0].shape"
   ]
  },
  {
   "cell_type": "code",
   "execution_count": 185,
   "metadata": {},
   "outputs": [],
   "source": [
    "# объявим енкодер\n",
    "model = Sequential()\n",
    "model.add(LSTM(100, activation='relu', input_shape=(NUM_LAGS, N_DIMS)))"
   ]
  },
  {
   "cell_type": "code",
   "execution_count": 186,
   "metadata": {},
   "outputs": [],
   "source": [
    "# добавим промежуточный слой, преобразующий выход с енкодера для входного слоя в декодер\n",
    "from keras.layers import RepeatVector\n",
    "model.add(RepeatVector(N_DIMS))"
   ]
  },
  {
   "cell_type": "code",
   "execution_count": 78,
   "metadata": {},
   "outputs": [],
   "source": [
    "# обьявим декодер\n",
    "model.add(LSTM(50, activation='relu', return_sequences=True))"
   ]
  },
  {
   "cell_type": "code",
   "execution_count": 79,
   "metadata": {},
   "outputs": [],
   "source": [
    "# обьявим выходной слой - размерность на выходе получается при помощи дополнительного слоя TimeDistributed\n",
    "from keras.layers import TimeDistributed\n",
    "model.add(TimeDistributed(Dense(1)))"
   ]
  },
  {
   "cell_type": "code",
   "execution_count": 81,
   "metadata": {},
   "outputs": [],
   "source": [
    "model.compile(optimizer='adam', loss='mse')"
   ]
  },
  {
   "cell_type": "code",
   "execution_count": 83,
   "metadata": {},
   "outputs": [
    {
     "name": "stdout",
     "output_type": "stream",
     "text": [
      "Epoch 1/50\n",
      "130/130 [==============================] - 1s 9ms/step - loss: 4337.5293\n",
      "Epoch 2/50\n",
      "130/130 [==============================] - 1s 10ms/step - loss: 3359.5718\n",
      "Epoch 3/50\n",
      "130/130 [==============================] - 1s 11ms/step - loss: 2346.5215\n",
      "Epoch 4/50\n",
      "130/130 [==============================] - 1s 11ms/step - loss: 1834.7770\n",
      "Epoch 5/50\n",
      "130/130 [==============================] - 1s 9ms/step - loss: 1693.2955\n",
      "Epoch 6/50\n",
      "130/130 [==============================] - 1s 10ms/step - loss: 1496.0602\n",
      "Epoch 7/50\n",
      "130/130 [==============================] - 1s 10ms/step - loss: 1387.5758\n",
      "Epoch 8/50\n",
      "130/130 [==============================] - 1s 11ms/step - loss: 1265.3087\n",
      "Epoch 9/50\n",
      "130/130 [==============================] - 1s 9ms/step - loss: 1505.0157\n",
      "Epoch 10/50\n",
      "130/130 [==============================] - 1s 9ms/step - loss: 1514.8870\n",
      "Epoch 11/50\n",
      "130/130 [==============================] - 1s 8ms/step - loss: 1301.9706\n",
      "Epoch 12/50\n",
      "130/130 [==============================] - 1s 9ms/step - loss: 1278.9486\n",
      "Epoch 13/50\n",
      "130/130 [==============================] - 1s 9ms/step - loss: 1309.2554\n",
      "Epoch 14/50\n",
      "130/130 [==============================] - 1s 9ms/step - loss: 1628.4979\n",
      "Epoch 15/50\n",
      "130/130 [==============================] - 1s 9ms/step - loss: 1819.9342\n",
      "Epoch 16/50\n",
      "130/130 [==============================] - 1s 9ms/step - loss: 1520.2660\n",
      "Epoch 17/50\n",
      "130/130 [==============================] - 1s 9ms/step - loss: 1324.4885\n",
      "Epoch 18/50\n",
      "130/130 [==============================] - 1s 9ms/step - loss: 1299.3295\n",
      "Epoch 19/50\n",
      "130/130 [==============================] - 1s 9ms/step - loss: 1186.3156\n",
      "Epoch 20/50\n",
      "130/130 [==============================] - 1s 10ms/step - loss: 1122.8571\n",
      "Epoch 21/50\n",
      "130/130 [==============================] - 1s 9ms/step - loss: 1125.4316\n",
      "Epoch 22/50\n",
      "130/130 [==============================] - 1s 10ms/step - loss: 1119.9897\n",
      "Epoch 23/50\n",
      "130/130 [==============================] - 1s 9ms/step - loss: 1101.6624\n",
      "Epoch 24/50\n",
      "130/130 [==============================] - 1s 9ms/step - loss: 1097.9153\n",
      "Epoch 25/50\n",
      "130/130 [==============================] - 1s 9ms/step - loss: 1144.5050\n",
      "Epoch 26/50\n",
      "130/130 [==============================] - 1s 9ms/step - loss: 1181.8234\n",
      "Epoch 27/50\n",
      "130/130 [==============================] - 1s 10ms/step - loss: 1165.9486\n",
      "Epoch 28/50\n",
      "130/130 [==============================] - 1s 10ms/step - loss: 1132.3014\n",
      "Epoch 29/50\n",
      "130/130 [==============================] - 1s 10ms/step - loss: 1069.6210\n",
      "Epoch 30/50\n",
      "130/130 [==============================] - 1s 9ms/step - loss: 1028.5364\n",
      "Epoch 31/50\n",
      "130/130 [==============================] - 1s 9ms/step - loss: 1086.3086\n",
      "Epoch 32/50\n",
      "130/130 [==============================] - 1s 9ms/step - loss: 1303.5736\n",
      "Epoch 33/50\n",
      "130/130 [==============================] - 1s 9ms/step - loss: 1373.5681\n",
      "Epoch 34/50\n",
      "130/130 [==============================] - 1s 9ms/step - loss: 1222.9882\n",
      "Epoch 35/50\n",
      "130/130 [==============================] - 1s 9ms/step - loss: 1151.4961\n",
      "Epoch 36/50\n",
      "130/130 [==============================] - 1s 9ms/step - loss: 1116.9482\n",
      "Epoch 37/50\n",
      "130/130 [==============================] - 1s 11ms/step - loss: 1094.3457\n",
      "Epoch 38/50\n",
      "130/130 [==============================] - 1s 10ms/step - loss: 1046.0753\n",
      "Epoch 39/50\n",
      "130/130 [==============================] - 1s 9ms/step - loss: 1030.7870\n",
      "Epoch 40/50\n",
      "130/130 [==============================] - 1s 9ms/step - loss: 1446.4260\n",
      "Epoch 41/50\n",
      "130/130 [==============================] - 1s 9ms/step - loss: 1158.3619\n",
      "Epoch 42/50\n",
      "130/130 [==============================] - 1s 10ms/step - loss: 1058.0692\n",
      "Epoch 43/50\n",
      "130/130 [==============================] - 1s 10ms/step - loss: 1028.4990\n",
      "Epoch 44/50\n",
      "130/130 [==============================] - 1s 10ms/step - loss: 1020.4298\n",
      "Epoch 45/50\n",
      "130/130 [==============================] - 1s 10ms/step - loss: 1017.2426\n",
      "Epoch 46/50\n",
      "130/130 [==============================] - 1s 10ms/step - loss: 995.0058\n",
      "Epoch 47/50\n",
      "130/130 [==============================] - 1s 10ms/step - loss: 979.2719\n",
      "Epoch 48/50\n",
      "130/130 [==============================] - 1s 10ms/step - loss: 965.5411\n",
      "Epoch 49/50\n",
      "130/130 [==============================] - 1s 10ms/step - loss: 982.8457\n",
      "Epoch 50/50\n",
      "130/130 [==============================] - 1s 10ms/step - loss: 954.3374\n"
     ]
    },
    {
     "data": {
      "text/plain": [
       "<tensorflow.python.keras.callbacks.History at 0x154793ac8>"
      ]
     },
     "execution_count": 83,
     "metadata": {},
     "output_type": "execute_result"
    }
   ],
   "source": [
    "model.fit(X, y, epochs=50)"
   ]
  },
  {
   "cell_type": "code",
   "execution_count": null,
   "metadata": {},
   "outputs": [],
   "source": []
  }
 ],
 "metadata": {
  "kernelspec": {
   "display_name": "Python 3 (ipykernel)",
   "language": "python",
   "name": "python3"
  },
  "language_info": {
   "codemirror_mode": {
    "name": "ipython",
    "version": 3
   },
   "file_extension": ".py",
   "mimetype": "text/x-python",
   "name": "python",
   "nbconvert_exporter": "python",
   "pygments_lexer": "ipython3",
   "version": "3.8.2"
  }
 },
 "nbformat": 4,
 "nbformat_minor": 4
}
