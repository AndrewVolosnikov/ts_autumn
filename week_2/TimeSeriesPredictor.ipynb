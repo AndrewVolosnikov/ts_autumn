{
 "cells": [
  {
   "cell_type": "code",
   "execution_count": 1,
   "id": "stuck-blood",
   "metadata": {},
   "outputs": [],
   "source": [
    "%load_ext autoreload\n",
    "%autoreload 2"
   ]
  },
  {
   "cell_type": "code",
   "execution_count": 2,
   "id": "starting-teacher",
   "metadata": {},
   "outputs": [],
   "source": [
    "import sys\n",
    "from pathlib import Path\n",
    "\n",
    "sys.path.append(str(Path().cwd().parent))"
   ]
  },
  {
   "cell_type": "code",
   "execution_count": 3,
   "id": "initial-owner",
   "metadata": {},
   "outputs": [
    {
     "name": "stderr",
     "output_type": "stream",
     "text": [
      "/Users/g.sinyakov/ts_autumn/.env/lib/python3.8/site-packages/pandas/compat/__init__.py:124: UserWarning: Could not import the lzma module. Your installed Python is incomplete. Attempting to use lzma compression will result in a RuntimeError.\n",
      "  warnings.warn(msg)\n"
     ]
    }
   ],
   "source": [
    "from plotting import plot_ts"
   ]
  },
  {
   "cell_type": "markdown",
   "id": "sharing-happening",
   "metadata": {},
   "source": [
    "### Возьмем временной ряд"
   ]
  },
  {
   "cell_type": "code",
   "execution_count": 4,
   "id": "toxic-wayne",
   "metadata": {},
   "outputs": [],
   "source": [
    "from load_dataset import Dataset"
   ]
  },
  {
   "cell_type": "code",
   "execution_count": 5,
   "id": "infinite-financing",
   "metadata": {},
   "outputs": [],
   "source": [
    "ds = Dataset('../data/dataset/')"
   ]
  },
  {
   "cell_type": "code",
   "execution_count": 6,
   "id": "asian-guitar",
   "metadata": {},
   "outputs": [],
   "source": [
    "ts = ds['daily-min-temperatures.csv']"
   ]
  },
  {
   "cell_type": "markdown",
   "id": "breathing-hebrew",
   "metadata": {},
   "source": [
    "### Cоздание инстанса"
   ]
  },
  {
   "cell_type": "code",
   "execution_count": 8,
   "id": "described-morrison",
   "metadata": {},
   "outputs": [],
   "source": [
    "from model import TimeSeriesPredictor"
   ]
  },
  {
   "cell_type": "markdown",
   "id": "cognitive-arthritis",
   "metadata": {},
   "source": [
    "в качестве обязательных параметров принимает частоту ряда в формате iso8601\n",
    "и количество лагов для построения модели - granularity и num_lags"
   ]
  },
  {
   "cell_type": "code",
   "execution_count": 9,
   "id": "blank-innocent",
   "metadata": {},
   "outputs": [],
   "source": [
    "predictor = TimeSeriesPredictor('P1D', 365)"
   ]
  },
  {
   "cell_type": "markdown",
   "id": "narrow-publisher",
   "metadata": {},
   "source": [
    "также predictor'y можно передать параметр model, чтобы использовать конкретную модель для прогнозирования, модель может быть любым sklearn-совместимым эстиматором"
   ]
  },
  {
   "cell_type": "code",
   "execution_count": 10,
   "id": "rural-effect",
   "metadata": {},
   "outputs": [],
   "source": [
    "from sklearn.ensemble import GradientBoostingRegressor\n",
    "\n",
    "predictor = TimeSeriesPredictor('P1D', 365, model=GradientBoostingRegressor)"
   ]
  },
  {
   "cell_type": "markdown",
   "id": "crude-stockholm",
   "metadata": {},
   "source": [
    "model по умолчанию - LinearRegression"
   ]
  },
  {
   "cell_type": "code",
   "execution_count": 11,
   "id": "hourly-fishing",
   "metadata": {},
   "outputs": [
    {
     "data": {
      "text/plain": [
       "LinearRegression()"
      ]
     },
     "execution_count": 11,
     "metadata": {},
     "output_type": "execute_result"
    }
   ],
   "source": [
    "predictor = TimeSeriesPredictor('P1D', 365)\n",
    "predictor.model"
   ]
  },
  {
   "cell_type": "markdown",
   "id": "smooth-engine",
   "metadata": {},
   "source": [
    "также для передачи дополнительной информации в модель вы можете использовать параметр mappers куда нужно передать ваши функции, принимающие timestamp и возвращающие для него значение вашего доп признака"
   ]
  },
  {
   "cell_type": "code",
   "execution_count": 12,
   "id": "armed-water",
   "metadata": {},
   "outputs": [],
   "source": [
    "def get_hour(timestamp):\n",
    "    return timestamp.hour\n",
    "\n",
    "external_features = {\n",
    "    'hour': get_hour\n",
    "}\n",
    "\n",
    "predictor = TimeSeriesPredictor('P1D', 365, mappers=external_features)"
   ]
  },
  {
   "cell_type": "markdown",
   "id": "informed-nevada",
   "metadata": {},
   "source": [
    "Помимо основных параметровв модель также можно передать любое произвольно количество именованных аргументов **kwargs, которые будут переданы в конструктор `model`"
   ]
  },
  {
   "cell_type": "code",
   "execution_count": 13,
   "id": "raised-demographic",
   "metadata": {},
   "outputs": [],
   "source": [
    "from sklearn.ensemble import GradientBoostingRegressor\n",
    "\n",
    "predictor = TimeSeriesPredictor('P1D', 365, model=GradientBoostingRegressor, max_depth=6, n_estimators=1000)"
   ]
  },
  {
   "cell_type": "markdown",
   "id": "involved-suspension",
   "metadata": {},
   "source": [
    "### Получение и установка параметров и функционал get/set params"
   ]
  },
  {
   "cell_type": "markdown",
   "id": "involved-compensation",
   "metadata": {},
   "source": [
    "классическое получение и задание аттрибутов"
   ]
  },
  {
   "cell_type": "code",
   "execution_count": 14,
   "id": "known-turkey",
   "metadata": {},
   "outputs": [
    {
     "data": {
      "text/plain": [
       "0.1"
      ]
     },
     "execution_count": 14,
     "metadata": {},
     "output_type": "execute_result"
    }
   ],
   "source": [
    "predictor.num_lags\n",
    "predictor.model\n",
    "predictor.model.learning_rate"
   ]
  },
  {
   "cell_type": "code",
   "execution_count": 15,
   "id": "designed-alfred",
   "metadata": {},
   "outputs": [],
   "source": [
    "predictor.model.learning_rate = 0.2"
   ]
  },
  {
   "cell_type": "code",
   "execution_count": 16,
   "id": "interstate-refrigerator",
   "metadata": {},
   "outputs": [
    {
     "data": {
      "text/plain": [
       "0.2"
      ]
     },
     "execution_count": 16,
     "metadata": {},
     "output_type": "execute_result"
    }
   ],
   "source": [
    "predictor.model.learning_rate"
   ]
  },
  {
   "cell_type": "markdown",
   "id": "acoustic-blowing",
   "metadata": {},
   "source": [
    "метод get_params получает словарь всех параметров модели включая sub-параметры модели, в таком случае они идут с префиксом\n",
    "`model__`"
   ]
  },
  {
   "cell_type": "code",
   "execution_count": 17,
   "id": "statewide-writer",
   "metadata": {},
   "outputs": [
    {
     "data": {
      "text/plain": [
       "{'granularity': 'P1D',\n",
       " 'mappers': {},\n",
       " 'model__alpha': 0.9,\n",
       " 'model__ccp_alpha': 0.0,\n",
       " 'model__criterion': 'friedman_mse',\n",
       " 'model__init': None,\n",
       " 'model__learning_rate': 0.2,\n",
       " 'model__loss': 'ls',\n",
       " 'model__max_depth': 6,\n",
       " 'model__max_features': None,\n",
       " 'model__max_leaf_nodes': None,\n",
       " 'model__min_impurity_decrease': 0.0,\n",
       " 'model__min_impurity_split': None,\n",
       " 'model__min_samples_leaf': 1,\n",
       " 'model__min_samples_split': 2,\n",
       " 'model__min_weight_fraction_leaf': 0.0,\n",
       " 'model__n_estimators': 1000,\n",
       " 'model__n_iter_no_change': None,\n",
       " 'model__random_state': None,\n",
       " 'model__subsample': 1.0,\n",
       " 'model__tol': 0.0001,\n",
       " 'model__validation_fraction': 0.1,\n",
       " 'model__verbose': 0,\n",
       " 'model__warm_start': False,\n",
       " 'model': GradientBoostingRegressor(learning_rate=0.2, max_depth=6, n_estimators=1000),\n",
       " 'num_lags': 365}"
      ]
     },
     "execution_count": 17,
     "metadata": {},
     "output_type": "execute_result"
    }
   ],
   "source": [
    "predictor.get_params()"
   ]
  },
  {
   "cell_type": "markdown",
   "id": "rural-contrary",
   "metadata": {},
   "source": [
    "метод set_params реализует обратную логику, принимая набор параметров для установки, включая sub-параметры модели, в таком случае их нужно указывать с префиксом `model__`"
   ]
  },
  {
   "cell_type": "code",
   "execution_count": 18,
   "id": "controlled-shoulder",
   "metadata": {},
   "outputs": [
    {
     "data": {
      "text/plain": [
       "<model.TimeSeriesPredictor at 0x1399a6670>"
      ]
     },
     "execution_count": 18,
     "metadata": {},
     "output_type": "execute_result"
    }
   ],
   "source": [
    "from sklearn.ensemble import RandomForestRegressor\n",
    "\n",
    "\n",
    "params = {\n",
    "    'num_lags': 730,\n",
    "    'model': RandomForestRegressor(),  # обратите внимание, что в данном случае требуется создать инстанс модели!!\n",
    "    'model__max_depth': 3,\n",
    "    'model__n_estimators': 400,\n",
    "}\n",
    "\n",
    "predictor.set_params(**params)  # параметры необходимо распаковать"
   ]
  },
  {
   "cell_type": "code",
   "execution_count": 19,
   "id": "forced-summary",
   "metadata": {},
   "outputs": [
    {
     "data": {
      "text/plain": [
       "{'granularity': 'P1D',\n",
       " 'mappers': {},\n",
       " 'model__bootstrap': True,\n",
       " 'model__ccp_alpha': 0.0,\n",
       " 'model__criterion': 'mse',\n",
       " 'model__max_depth': 3,\n",
       " 'model__max_features': 'auto',\n",
       " 'model__max_leaf_nodes': None,\n",
       " 'model__max_samples': None,\n",
       " 'model__min_impurity_decrease': 0.0,\n",
       " 'model__min_impurity_split': None,\n",
       " 'model__min_samples_leaf': 1,\n",
       " 'model__min_samples_split': 2,\n",
       " 'model__min_weight_fraction_leaf': 0.0,\n",
       " 'model__n_estimators': 400,\n",
       " 'model__n_jobs': None,\n",
       " 'model__oob_score': False,\n",
       " 'model__random_state': None,\n",
       " 'model__verbose': 0,\n",
       " 'model__warm_start': False,\n",
       " 'model': RandomForestRegressor(max_depth=3, n_estimators=400),\n",
       " 'num_lags': 730}"
      ]
     },
     "execution_count": 19,
     "metadata": {},
     "output_type": "execute_result"
    }
   ],
   "source": [
    "predictor.get_params()"
   ]
  },
  {
   "cell_type": "markdown",
   "id": "public-engine",
   "metadata": {},
   "source": [
    "###  Обучение модели"
   ]
  },
  {
   "cell_type": "markdown",
   "id": "guilty-international",
   "metadata": {},
   "source": [
    "в данном случае на вход подается временной ряд в формате pd.Series"
   ]
  },
  {
   "cell_type": "code",
   "execution_count": 20,
   "id": "stretch-jersey",
   "metadata": {},
   "outputs": [],
   "source": [
    "split_idx = int(len(ts) * 0.7)\n",
    "\n",
    "ts_train, ts_test = ts[:split_idx], ts[split_idx:]"
   ]
  },
  {
   "cell_type": "code",
   "execution_count": 21,
   "id": "narrative-glass",
   "metadata": {},
   "outputs": [],
   "source": [
    "predictor.fit(ts_train)"
   ]
  },
  {
   "cell_type": "markdown",
   "id": "paperback-attribute",
   "metadata": {},
   "source": [
    "### Получение out-of-sample прогноза"
   ]
  },
  {
   "cell_type": "markdown",
   "id": "scenic-richmond",
   "metadata": {},
   "source": [
    "на вход подаем временной ряд от которого нужно сделать прогноз (длинной минимум num_lags) + горизонт прогнозирования"
   ]
  },
  {
   "cell_type": "code",
   "execution_count": 22,
   "id": "distant-sound",
   "metadata": {},
   "outputs": [],
   "source": [
    "from sklearn.metrics import mean_squared_error as mse"
   ]
  },
  {
   "cell_type": "code",
   "execution_count": 23,
   "id": "prospective-rhythm",
   "metadata": {},
   "outputs": [],
   "source": [
    "preds = predictor.predict_next(ts_train, n_steps=len(ts_test))"
   ]
  },
  {
   "cell_type": "code",
   "execution_count": 24,
   "id": "dutch-grace",
   "metadata": {},
   "outputs": [
    {
     "data": {
      "text/html": [
       "\n",
       "    <div class=\"bk-root\">\n",
       "        <a href=\"https://bokeh.org\" target=\"_blank\" class=\"bk-logo bk-logo-small bk-logo-notebook\"></a>\n",
       "        <span id=\"1002\">Loading BokehJS ...</span>\n",
       "    </div>"
      ]
     },
     "metadata": {},
     "output_type": "display_data"
    },
    {
     "data": {
      "application/javascript": [
       "\n",
       "(function(root) {\n",
       "  function now() {\n",
       "    return new Date();\n",
       "  }\n",
       "\n",
       "  var force = true;\n",
       "\n",
       "  if (typeof root._bokeh_onload_callbacks === \"undefined\" || force === true) {\n",
       "    root._bokeh_onload_callbacks = [];\n",
       "    root._bokeh_is_loading = undefined;\n",
       "  }\n",
       "\n",
       "  var JS_MIME_TYPE = 'application/javascript';\n",
       "  var HTML_MIME_TYPE = 'text/html';\n",
       "  var EXEC_MIME_TYPE = 'application/vnd.bokehjs_exec.v0+json';\n",
       "  var CLASS_NAME = 'output_bokeh rendered_html';\n",
       "\n",
       "  /**\n",
       "   * Render data to the DOM node\n",
       "   */\n",
       "  function render(props, node) {\n",
       "    var script = document.createElement(\"script\");\n",
       "    node.appendChild(script);\n",
       "  }\n",
       "\n",
       "  /**\n",
       "   * Handle when an output is cleared or removed\n",
       "   */\n",
       "  function handleClearOutput(event, handle) {\n",
       "    var cell = handle.cell;\n",
       "\n",
       "    var id = cell.output_area._bokeh_element_id;\n",
       "    var server_id = cell.output_area._bokeh_server_id;\n",
       "    // Clean up Bokeh references\n",
       "    if (id != null && id in Bokeh.index) {\n",
       "      Bokeh.index[id].model.document.clear();\n",
       "      delete Bokeh.index[id];\n",
       "    }\n",
       "\n",
       "    if (server_id !== undefined) {\n",
       "      // Clean up Bokeh references\n",
       "      var cmd = \"from bokeh.io.state import curstate; print(curstate().uuid_to_server['\" + server_id + \"'].get_sessions()[0].document.roots[0]._id)\";\n",
       "      cell.notebook.kernel.execute(cmd, {\n",
       "        iopub: {\n",
       "          output: function(msg) {\n",
       "            var id = msg.content.text.trim();\n",
       "            if (id in Bokeh.index) {\n",
       "              Bokeh.index[id].model.document.clear();\n",
       "              delete Bokeh.index[id];\n",
       "            }\n",
       "          }\n",
       "        }\n",
       "      });\n",
       "      // Destroy server and session\n",
       "      var cmd = \"import bokeh.io.notebook as ion; ion.destroy_server('\" + server_id + \"')\";\n",
       "      cell.notebook.kernel.execute(cmd);\n",
       "    }\n",
       "  }\n",
       "\n",
       "  /**\n",
       "   * Handle when a new output is added\n",
       "   */\n",
       "  function handleAddOutput(event, handle) {\n",
       "    var output_area = handle.output_area;\n",
       "    var output = handle.output;\n",
       "\n",
       "    // limit handleAddOutput to display_data with EXEC_MIME_TYPE content only\n",
       "    if ((output.output_type != \"display_data\") || (!Object.prototype.hasOwnProperty.call(output.data, EXEC_MIME_TYPE))) {\n",
       "      return\n",
       "    }\n",
       "\n",
       "    var toinsert = output_area.element.find(\".\" + CLASS_NAME.split(' ')[0]);\n",
       "\n",
       "    if (output.metadata[EXEC_MIME_TYPE][\"id\"] !== undefined) {\n",
       "      toinsert[toinsert.length - 1].firstChild.textContent = output.data[JS_MIME_TYPE];\n",
       "      // store reference to embed id on output_area\n",
       "      output_area._bokeh_element_id = output.metadata[EXEC_MIME_TYPE][\"id\"];\n",
       "    }\n",
       "    if (output.metadata[EXEC_MIME_TYPE][\"server_id\"] !== undefined) {\n",
       "      var bk_div = document.createElement(\"div\");\n",
       "      bk_div.innerHTML = output.data[HTML_MIME_TYPE];\n",
       "      var script_attrs = bk_div.children[0].attributes;\n",
       "      for (var i = 0; i < script_attrs.length; i++) {\n",
       "        toinsert[toinsert.length - 1].firstChild.setAttribute(script_attrs[i].name, script_attrs[i].value);\n",
       "        toinsert[toinsert.length - 1].firstChild.textContent = bk_div.children[0].textContent\n",
       "      }\n",
       "      // store reference to server id on output_area\n",
       "      output_area._bokeh_server_id = output.metadata[EXEC_MIME_TYPE][\"server_id\"];\n",
       "    }\n",
       "  }\n",
       "\n",
       "  function register_renderer(events, OutputArea) {\n",
       "\n",
       "    function append_mime(data, metadata, element) {\n",
       "      // create a DOM node to render to\n",
       "      var toinsert = this.create_output_subarea(\n",
       "        metadata,\n",
       "        CLASS_NAME,\n",
       "        EXEC_MIME_TYPE\n",
       "      );\n",
       "      this.keyboard_manager.register_events(toinsert);\n",
       "      // Render to node\n",
       "      var props = {data: data, metadata: metadata[EXEC_MIME_TYPE]};\n",
       "      render(props, toinsert[toinsert.length - 1]);\n",
       "      element.append(toinsert);\n",
       "      return toinsert\n",
       "    }\n",
       "\n",
       "    /* Handle when an output is cleared or removed */\n",
       "    events.on('clear_output.CodeCell', handleClearOutput);\n",
       "    events.on('delete.Cell', handleClearOutput);\n",
       "\n",
       "    /* Handle when a new output is added */\n",
       "    events.on('output_added.OutputArea', handleAddOutput);\n",
       "\n",
       "    /**\n",
       "     * Register the mime type and append_mime function with output_area\n",
       "     */\n",
       "    OutputArea.prototype.register_mime_type(EXEC_MIME_TYPE, append_mime, {\n",
       "      /* Is output safe? */\n",
       "      safe: true,\n",
       "      /* Index of renderer in `output_area.display_order` */\n",
       "      index: 0\n",
       "    });\n",
       "  }\n",
       "\n",
       "  // register the mime type if in Jupyter Notebook environment and previously unregistered\n",
       "  if (root.Jupyter !== undefined) {\n",
       "    var events = require('base/js/events');\n",
       "    var OutputArea = require('notebook/js/outputarea').OutputArea;\n",
       "\n",
       "    if (OutputArea.prototype.mime_types().indexOf(EXEC_MIME_TYPE) == -1) {\n",
       "      register_renderer(events, OutputArea);\n",
       "    }\n",
       "  }\n",
       "\n",
       "  \n",
       "  if (typeof (root._bokeh_timeout) === \"undefined\" || force === true) {\n",
       "    root._bokeh_timeout = Date.now() + 5000;\n",
       "    root._bokeh_failed_load = false;\n",
       "  }\n",
       "\n",
       "  var NB_LOAD_WARNING = {'data': {'text/html':\n",
       "     \"<div style='background-color: #fdd'>\\n\"+\n",
       "     \"<p>\\n\"+\n",
       "     \"BokehJS does not appear to have successfully loaded. If loading BokehJS from CDN, this \\n\"+\n",
       "     \"may be due to a slow or bad network connection. Possible fixes:\\n\"+\n",
       "     \"</p>\\n\"+\n",
       "     \"<ul>\\n\"+\n",
       "     \"<li>re-rerun `output_notebook()` to attempt to load from CDN again, or</li>\\n\"+\n",
       "     \"<li>use INLINE resources instead, as so:</li>\\n\"+\n",
       "     \"</ul>\\n\"+\n",
       "     \"<code>\\n\"+\n",
       "     \"from bokeh.resources import INLINE\\n\"+\n",
       "     \"output_notebook(resources=INLINE)\\n\"+\n",
       "     \"</code>\\n\"+\n",
       "     \"</div>\"}};\n",
       "\n",
       "  function display_loaded() {\n",
       "    var el = document.getElementById(\"1002\");\n",
       "    if (el != null) {\n",
       "      el.textContent = \"BokehJS is loading...\";\n",
       "    }\n",
       "    if (root.Bokeh !== undefined) {\n",
       "      if (el != null) {\n",
       "        el.textContent = \"BokehJS \" + root.Bokeh.version + \" successfully loaded.\";\n",
       "      }\n",
       "    } else if (Date.now() < root._bokeh_timeout) {\n",
       "      setTimeout(display_loaded, 100)\n",
       "    }\n",
       "  }\n",
       "\n",
       "\n",
       "  function run_callbacks() {\n",
       "    try {\n",
       "      root._bokeh_onload_callbacks.forEach(function(callback) {\n",
       "        if (callback != null)\n",
       "          callback();\n",
       "      });\n",
       "    } finally {\n",
       "      delete root._bokeh_onload_callbacks\n",
       "    }\n",
       "    console.debug(\"Bokeh: all callbacks have finished\");\n",
       "  }\n",
       "\n",
       "  function load_libs(css_urls, js_urls, callback) {\n",
       "    if (css_urls == null) css_urls = [];\n",
       "    if (js_urls == null) js_urls = [];\n",
       "\n",
       "    root._bokeh_onload_callbacks.push(callback);\n",
       "    if (root._bokeh_is_loading > 0) {\n",
       "      console.debug(\"Bokeh: BokehJS is being loaded, scheduling callback at\", now());\n",
       "      return null;\n",
       "    }\n",
       "    if (js_urls == null || js_urls.length === 0) {\n",
       "      run_callbacks();\n",
       "      return null;\n",
       "    }\n",
       "    console.debug(\"Bokeh: BokehJS not loaded, scheduling load and callback at\", now());\n",
       "    root._bokeh_is_loading = css_urls.length + js_urls.length;\n",
       "\n",
       "    function on_load() {\n",
       "      root._bokeh_is_loading--;\n",
       "      if (root._bokeh_is_loading === 0) {\n",
       "        console.debug(\"Bokeh: all BokehJS libraries/stylesheets loaded\");\n",
       "        run_callbacks()\n",
       "      }\n",
       "    }\n",
       "\n",
       "    function on_error(url) {\n",
       "      console.error(\"failed to load \" + url);\n",
       "    }\n",
       "\n",
       "    for (let i = 0; i < css_urls.length; i++) {\n",
       "      const url = css_urls[i];\n",
       "      const element = document.createElement(\"link\");\n",
       "      element.onload = on_load;\n",
       "      element.onerror = on_error.bind(null, url);\n",
       "      element.rel = \"stylesheet\";\n",
       "      element.type = \"text/css\";\n",
       "      element.href = url;\n",
       "      console.debug(\"Bokeh: injecting link tag for BokehJS stylesheet: \", url);\n",
       "      document.body.appendChild(element);\n",
       "    }\n",
       "\n",
       "    const hashes = {\"https://cdn.bokeh.org/bokeh/release/bokeh-2.3.3.min.js\": \"dM3QQsP+wXdHg42wTqW85BjZQdLNNIXqlPw/BgKoExPmTG7ZLML4EGqLMfqHT6ON\", \"https://cdn.bokeh.org/bokeh/release/bokeh-tables-2.3.3.min.js\": \"8x57I4YuIfu8XyZfFo0XVr2WAT8EK4rh/uDe3wF7YuW2FNUSNEpJbsPaB1nJ2fz2\", \"https://cdn.bokeh.org/bokeh/release/bokeh-widgets-2.3.3.min.js\": \"3QTqdz9LyAm2i0sG5XTePsHec3UHWwVsrOL68SYRoAXsafvfAyqtQ+h440+qIBhS\"};\n",
       "\n",
       "    for (let i = 0; i < js_urls.length; i++) {\n",
       "      const url = js_urls[i];\n",
       "      const element = document.createElement('script');\n",
       "      element.onload = on_load;\n",
       "      element.onerror = on_error.bind(null, url);\n",
       "      element.async = false;\n",
       "      element.src = url;\n",
       "      if (url in hashes) {\n",
       "        element.crossOrigin = \"anonymous\";\n",
       "        element.integrity = \"sha384-\" + hashes[url];\n",
       "      }\n",
       "      console.debug(\"Bokeh: injecting script tag for BokehJS library: \", url);\n",
       "      document.head.appendChild(element);\n",
       "    }\n",
       "  };\n",
       "\n",
       "  function inject_raw_css(css) {\n",
       "    const element = document.createElement(\"style\");\n",
       "    element.appendChild(document.createTextNode(css));\n",
       "    document.body.appendChild(element);\n",
       "  }\n",
       "\n",
       "  \n",
       "  var js_urls = [\"https://cdn.bokeh.org/bokeh/release/bokeh-2.3.3.min.js\", \"https://cdn.bokeh.org/bokeh/release/bokeh-widgets-2.3.3.min.js\", \"https://cdn.bokeh.org/bokeh/release/bokeh-tables-2.3.3.min.js\"];\n",
       "  var css_urls = [];\n",
       "  \n",
       "\n",
       "  var inline_js = [\n",
       "    function(Bokeh) {\n",
       "      Bokeh.set_log_level(\"info\");\n",
       "    },\n",
       "    function(Bokeh) {\n",
       "    \n",
       "    \n",
       "    }\n",
       "  ];\n",
       "\n",
       "  function run_inline_js() {\n",
       "    \n",
       "    if (root.Bokeh !== undefined || force === true) {\n",
       "      \n",
       "    for (var i = 0; i < inline_js.length; i++) {\n",
       "      inline_js[i].call(root, root.Bokeh);\n",
       "    }\n",
       "    if (force === true) {\n",
       "        display_loaded();\n",
       "      }} else if (Date.now() < root._bokeh_timeout) {\n",
       "      setTimeout(run_inline_js, 100);\n",
       "    } else if (!root._bokeh_failed_load) {\n",
       "      console.log(\"Bokeh: BokehJS failed to load within specified timeout.\");\n",
       "      root._bokeh_failed_load = true;\n",
       "    } else if (force !== true) {\n",
       "      var cell = $(document.getElementById(\"1002\")).parents('.cell').data().cell;\n",
       "      cell.output_area.append_execute_result(NB_LOAD_WARNING)\n",
       "    }\n",
       "\n",
       "  }\n",
       "\n",
       "  if (root._bokeh_is_loading === 0) {\n",
       "    console.debug(\"Bokeh: BokehJS loaded, going straight to plotting\");\n",
       "    run_inline_js();\n",
       "  } else {\n",
       "    load_libs(css_urls, js_urls, function() {\n",
       "      console.debug(\"Bokeh: BokehJS plotting callback run at\", now());\n",
       "      run_inline_js();\n",
       "    });\n",
       "  }\n",
       "}(window));"
      ],
      "application/vnd.bokehjs_load.v0+json": "\n(function(root) {\n  function now() {\n    return new Date();\n  }\n\n  var force = true;\n\n  if (typeof root._bokeh_onload_callbacks === \"undefined\" || force === true) {\n    root._bokeh_onload_callbacks = [];\n    root._bokeh_is_loading = undefined;\n  }\n\n  \n\n  \n  if (typeof (root._bokeh_timeout) === \"undefined\" || force === true) {\n    root._bokeh_timeout = Date.now() + 5000;\n    root._bokeh_failed_load = false;\n  }\n\n  var NB_LOAD_WARNING = {'data': {'text/html':\n     \"<div style='background-color: #fdd'>\\n\"+\n     \"<p>\\n\"+\n     \"BokehJS does not appear to have successfully loaded. If loading BokehJS from CDN, this \\n\"+\n     \"may be due to a slow or bad network connection. Possible fixes:\\n\"+\n     \"</p>\\n\"+\n     \"<ul>\\n\"+\n     \"<li>re-rerun `output_notebook()` to attempt to load from CDN again, or</li>\\n\"+\n     \"<li>use INLINE resources instead, as so:</li>\\n\"+\n     \"</ul>\\n\"+\n     \"<code>\\n\"+\n     \"from bokeh.resources import INLINE\\n\"+\n     \"output_notebook(resources=INLINE)\\n\"+\n     \"</code>\\n\"+\n     \"</div>\"}};\n\n  function display_loaded() {\n    var el = document.getElementById(\"1002\");\n    if (el != null) {\n      el.textContent = \"BokehJS is loading...\";\n    }\n    if (root.Bokeh !== undefined) {\n      if (el != null) {\n        el.textContent = \"BokehJS \" + root.Bokeh.version + \" successfully loaded.\";\n      }\n    } else if (Date.now() < root._bokeh_timeout) {\n      setTimeout(display_loaded, 100)\n    }\n  }\n\n\n  function run_callbacks() {\n    try {\n      root._bokeh_onload_callbacks.forEach(function(callback) {\n        if (callback != null)\n          callback();\n      });\n    } finally {\n      delete root._bokeh_onload_callbacks\n    }\n    console.debug(\"Bokeh: all callbacks have finished\");\n  }\n\n  function load_libs(css_urls, js_urls, callback) {\n    if (css_urls == null) css_urls = [];\n    if (js_urls == null) js_urls = [];\n\n    root._bokeh_onload_callbacks.push(callback);\n    if (root._bokeh_is_loading > 0) {\n      console.debug(\"Bokeh: BokehJS is being loaded, scheduling callback at\", now());\n      return null;\n    }\n    if (js_urls == null || js_urls.length === 0) {\n      run_callbacks();\n      return null;\n    }\n    console.debug(\"Bokeh: BokehJS not loaded, scheduling load and callback at\", now());\n    root._bokeh_is_loading = css_urls.length + js_urls.length;\n\n    function on_load() {\n      root._bokeh_is_loading--;\n      if (root._bokeh_is_loading === 0) {\n        console.debug(\"Bokeh: all BokehJS libraries/stylesheets loaded\");\n        run_callbacks()\n      }\n    }\n\n    function on_error(url) {\n      console.error(\"failed to load \" + url);\n    }\n\n    for (let i = 0; i < css_urls.length; i++) {\n      const url = css_urls[i];\n      const element = document.createElement(\"link\");\n      element.onload = on_load;\n      element.onerror = on_error.bind(null, url);\n      element.rel = \"stylesheet\";\n      element.type = \"text/css\";\n      element.href = url;\n      console.debug(\"Bokeh: injecting link tag for BokehJS stylesheet: \", url);\n      document.body.appendChild(element);\n    }\n\n    const hashes = {\"https://cdn.bokeh.org/bokeh/release/bokeh-2.3.3.min.js\": \"dM3QQsP+wXdHg42wTqW85BjZQdLNNIXqlPw/BgKoExPmTG7ZLML4EGqLMfqHT6ON\", \"https://cdn.bokeh.org/bokeh/release/bokeh-tables-2.3.3.min.js\": \"8x57I4YuIfu8XyZfFo0XVr2WAT8EK4rh/uDe3wF7YuW2FNUSNEpJbsPaB1nJ2fz2\", \"https://cdn.bokeh.org/bokeh/release/bokeh-widgets-2.3.3.min.js\": \"3QTqdz9LyAm2i0sG5XTePsHec3UHWwVsrOL68SYRoAXsafvfAyqtQ+h440+qIBhS\"};\n\n    for (let i = 0; i < js_urls.length; i++) {\n      const url = js_urls[i];\n      const element = document.createElement('script');\n      element.onload = on_load;\n      element.onerror = on_error.bind(null, url);\n      element.async = false;\n      element.src = url;\n      if (url in hashes) {\n        element.crossOrigin = \"anonymous\";\n        element.integrity = \"sha384-\" + hashes[url];\n      }\n      console.debug(\"Bokeh: injecting script tag for BokehJS library: \", url);\n      document.head.appendChild(element);\n    }\n  };\n\n  function inject_raw_css(css) {\n    const element = document.createElement(\"style\");\n    element.appendChild(document.createTextNode(css));\n    document.body.appendChild(element);\n  }\n\n  \n  var js_urls = [\"https://cdn.bokeh.org/bokeh/release/bokeh-2.3.3.min.js\", \"https://cdn.bokeh.org/bokeh/release/bokeh-widgets-2.3.3.min.js\", \"https://cdn.bokeh.org/bokeh/release/bokeh-tables-2.3.3.min.js\"];\n  var css_urls = [];\n  \n\n  var inline_js = [\n    function(Bokeh) {\n      Bokeh.set_log_level(\"info\");\n    },\n    function(Bokeh) {\n    \n    \n    }\n  ];\n\n  function run_inline_js() {\n    \n    if (root.Bokeh !== undefined || force === true) {\n      \n    for (var i = 0; i < inline_js.length; i++) {\n      inline_js[i].call(root, root.Bokeh);\n    }\n    if (force === true) {\n        display_loaded();\n      }} else if (Date.now() < root._bokeh_timeout) {\n      setTimeout(run_inline_js, 100);\n    } else if (!root._bokeh_failed_load) {\n      console.log(\"Bokeh: BokehJS failed to load within specified timeout.\");\n      root._bokeh_failed_load = true;\n    } else if (force !== true) {\n      var cell = $(document.getElementById(\"1002\")).parents('.cell').data().cell;\n      cell.output_area.append_execute_result(NB_LOAD_WARNING)\n    }\n\n  }\n\n  if (root._bokeh_is_loading === 0) {\n    console.debug(\"Bokeh: BokehJS loaded, going straight to plotting\");\n    run_inline_js();\n  } else {\n    load_libs(css_urls, js_urls, function() {\n      console.debug(\"Bokeh: BokehJS plotting callback run at\", now());\n      run_inline_js();\n    });\n  }\n}(window));"
     },
     "metadata": {},
     "output_type": "display_data"
    },
    {
     "data": {
      "text/html": [
       "\n",
       "\n",
       "\n",
       "\n",
       "\n",
       "\n",
       "  <div class=\"bk-root\" id=\"9e2553ee-81f4-48d3-ac3a-49194d4e38be\" data-root-id=\"1005\"></div>\n"
      ]
     },
     "metadata": {},
     "output_type": "display_data"
    },
    {
     "data": {
      "application/javascript": [
       "(function(root) {\n",
       "  function embed_document(root) {\n",
       "    \n",
       "  var docs_json = {\"ac9834e6-352f-4fd3-92ec-9b7d27ed70d5\":{\"defs\":[],\"roots\":{\"references\":[{\"attributes\":{\"below\":[{\"id\":\"1016\"}],\"center\":[{\"id\":\"1019\"},{\"id\":\"1023\"}],\"left\":[{\"id\":\"1020\"}],\"renderers\":[{\"id\":\"1044\"},{\"id\":\"1049\"}],\"title\":{\"id\":\"1006\"},\"toolbar\":{\"id\":\"1032\"},\"width\":900,\"x_range\":{\"id\":\"1008\"},\"x_scale\":{\"id\":\"1012\"},\"y_range\":{\"id\":\"1010\"},\"y_scale\":{\"id\":\"1014\"}},\"id\":\"1005\",\"subtype\":\"Figure\",\"type\":\"Plot\"},{\"attributes\":{\"axis_label\":\"time\",\"formatter\":{\"id\":\"1003\"},\"major_label_policy\":{\"id\":\"1056\"},\"ticker\":{\"id\":\"1017\"}},\"id\":\"1016\",\"type\":\"DatetimeAxis\"},{\"attributes\":{\"data_source\":{\"id\":\"1041\"},\"glyph\":{\"id\":\"1042\"},\"hover_glyph\":null,\"muted_glyph\":null,\"nonselection_glyph\":{\"id\":\"1043\"},\"view\":{\"id\":\"1045\"}},\"id\":\"1044\",\"type\":\"GlyphRenderer\"},{\"attributes\":{\"days\":[\"%d %B %Y\"],\"hours\":[\"%d %B %Y\"],\"months\":[\"%d %B %Y\"],\"years\":[\"%d %B %Y\"]},\"id\":\"1003\",\"type\":\"DatetimeTickFormatter\"},{\"attributes\":{\"line_alpha\":0.1,\"line_color\":\"orange\",\"line_width\":2,\"x\":{\"field\":\"x\"},\"y\":{\"field\":\"y\"}},\"id\":\"1048\",\"type\":\"Line\"},{\"attributes\":{},\"id\":\"1021\",\"type\":\"BasicTicker\"},{\"attributes\":{\"months\":[0,1,2,3,4,5,6,7,8,9,10,11]},\"id\":\"1070\",\"type\":\"MonthsTicker\"},{\"attributes\":{\"overlay\":{\"id\":\"1031\"}},\"id\":\"1026\",\"type\":\"BoxZoomTool\"},{\"attributes\":{},\"id\":\"1024\",\"type\":\"PanTool\"},{\"attributes\":{},\"id\":\"1014\",\"type\":\"LinearScale\"},{\"attributes\":{\"overlay\":{\"id\":\"1030\"}},\"id\":\"1029\",\"type\":\"BoxSelectTool\"},{\"attributes\":{\"axis\":{\"id\":\"1016\"},\"ticker\":null},\"id\":\"1019\",\"type\":\"Grid\"},{\"attributes\":{},\"id\":\"1027\",\"type\":\"ResetTool\"},{\"attributes\":{},\"id\":\"1061\",\"type\":\"Selection\"},{\"attributes\":{\"base\":60,\"mantissas\":[1,2,5,10,15,20,30],\"max_interval\":1800000.0,\"min_interval\":1000.0,\"num_minor_ticks\":0},\"id\":\"1064\",\"type\":\"AdaptiveTicker\"},{\"attributes\":{\"line_color\":\"orange\",\"line_width\":2,\"x\":{\"field\":\"x\"},\"y\":{\"field\":\"y\"}},\"id\":\"1047\",\"type\":\"Line\"},{\"attributes\":{},\"id\":\"1025\",\"type\":\"WheelZoomTool\"},{\"attributes\":{},\"id\":\"1056\",\"type\":\"AllLabels\"},{\"attributes\":{},\"id\":\"1074\",\"type\":\"YearsTicker\"},{\"attributes\":{\"mantissas\":[1,2,5],\"max_interval\":500.0,\"num_minor_ticks\":0},\"id\":\"1063\",\"type\":\"AdaptiveTicker\"},{\"attributes\":{\"data\":{\"x\":{\"__ndarray__\":\"AAAA0eGHYEIAAICchohgQgAAAGgriWBCAACAM9CJYEIAAAD/dIpgQgAAgMoZi2BCAAAAlr6LYEIAAIBhY4xgQgAAAC0IjWBCAACA+KyNYEIAAADEUY5gQgAAgI/2jmBCAAAAW5uPYEIAAIAmQJBgQgAAAPLkkGBCAACAvYmRYEIAAACJLpJgQgAAgFTTkmBCAAAAIHiTYEIAAIDrHJRgQgAAALfBlGBCAACAgmaVYEIAAABOC5ZgQgAAgBmwlmBCAAAA5VSXYEIAAICw+ZdgQgAAAHyemGBCAACAR0OZYEIAAAAT6JlgQgAAgN6MmmBCAAAAqjGbYEIAAIB11ptgQgAAAEF7nGBCAACADCCdYEIAAADYxJ1gQgAAgKNpnmBCAAAAbw6fYEIAAIA6s59gQgAAAAZYoGBCAACA0fygYEIAAACdoaFgQgAAgGhGomBCAAAANOuiYEIAAID/j6NgQgAAAMs0pGBCAACAltmkYEIAAABifqVgQgAAgC0jpmBCAAAA+cemYEIAAIDEbKdgQgAAAJARqGBCAACAW7aoYEIAAAAnW6lgQgAAgPL/qWBCAAAAvqSqYEIAAICJSatgQgAAAFXuq2BCAACAIJOsYEIAAADsN61gQgAAgLfcrWBCAAAAg4GuYEIAAIBOJq9gQgAAABrLr2BCAACA5W+wYEIAAACxFLFgQgAAgHy5sWBCAAAASF6yYEIAAIATA7NgQgAAAN+ns2BCAACAqky0YEIAAAB28bRgQgAAgEGWtWBCAAAADTu2YEIAAIDY37ZgQgAAAKSEt2BCAACAbym4YEIAAAA7zrhgQgAAgAZzuWBCAAAA0he6YEIAAICdvLpgQgAAAGlhu2BCAACANAa8YEIAAAAAq7xgQgAAgMtPvWBCAAAAl/S9YEIAAIBimb5gQgAAAC4+v2BCAACA+eK/YEIAAADFh8BgQgAAgJAswWBCAAAAXNHBYEIAAIAndsJgQgAAAPMaw2BCAACAvr/DYEIAAACKZMRgQgAAgFUJxWBCAAAAIa7FYEIAAIDsUsZgQgAAALj3xmBCAACAg5zHYEIAAABPQchgQgAAgBrmyGBCAAAA5orJYEIAAICxL8pgQgAAAH3UymBCAACASHnLYEIAAAAUHsxgQgAAgN/CzGBCAAAAq2fNYEIAAIB2DM5gQgAAAEKxzmBCAACADVbPYEIAAADZ+s9gQgAAgKSf0GBCAAAAcETRYEIAAIA76dFgQgAAAAeO0mBCAACA0jLTYEIAAACe19NgQgAAgGl81GBCAAAANSHVYEIAAIAAxtVgQgAAAMxq1mBCAACAlw/XYEIAAABjtNdgQgAAgC5Z2GBCAAAA+v3YYEIAAIDFotlgQgAAAJFH2mBCAACAXOzaYEIAAAAokdtgQgAAgPM13GBCAAAAv9rcYEIAAICKf91gQgAAAFYk3mBCAACAIcneYEIAAADtbd9gQgAAgLgS4GBCAAAAhLfgYEIAAIBPXOFgQgAAABsB4mBCAACA5qXiYEIAAACySuNgQgAAgH3v42BCAAAASZTkYEIAAIAUOeVgQgAAAODd5WBCAACAq4LmYEIAAAB3J+dgQgAAgELM52BCAAAADnHoYEIAAIDZFelgQgAAAKW66WBCAACAcF/qYEIAAAA8BOtgQgAAgAep62BCAAAA003sYEIAAICe8uxgQgAAAGqX7WBCAACANTzuYEIAAAAB4e5gQgAAgMyF72BCAAAAmCrwYEIAAIBjz/BgQgAAAC908WBCAACA+hjyYEIAAADGvfJgQgAAgJFi82BCAAAAXQf0YEIAAIAorPRgQgAAAPRQ9WBCAACAv/X1YEIAAACLmvZgQgAAgFY/92BCAAAAIuT3YEIAAIDtiPhgQgAAALkt+WBCAACAhNL5YEIAAABQd/pgQgAAgBsc+2BCAAAA58D7YEIAAICyZfxgQgAAAH4K/WBCAACASa/9YEIAAAAVVP5gQgAAgOD4/mBCAAAArJ3/YEIAAIB3QgBhQgAAAEPnAGFCAACADowBYUIAAADaMAJhQgAAgKXVAmFCAAAAcXoDYUIAAIA8HwRhQgAAAAjEBGFCAACA02gFYUIAAACfDQZhQgAAgGqyBmFCAAAANlcHYUIAAIAB/AdhQgAAAM2gCGFCAACAmEUJYUIAAABk6glhQgAAgC+PCmFCAAAA+zMLYUIAAIDG2AthQgAAAJJ9DGFCAACAXSINYUIAAAApxw1hQgAAgPRrDmFCAAAAwBAPYUIAAICLtQ9hQgAAAFdaEGFCAACAIv8QYUIAAADuoxFhQgAAgLlIEmFCAAAAhe0SYUIAAIBQkhNhQgAAABw3FGFCAACA59sUYUIAAACzgBVhQgAAgH4lFmFCAAAASsoWYUIAAIAVbxdhQgAAAOETGGFCAACArLgYYUIAAAB4XRlhQgAAgEMCGmFCAAAAD6caYUIAAIDaSxthQgAAAKbwG2FCAACAcZUcYUIAAAA9Oh1hQgAAgAjfHWFCAAAA1IMeYUIAAICfKB9hQgAAAGvNH2FCAACANnIgYUIAAAACFyFhQgAAgM27IWFCAAAAmWAiYUIAAIBkBSNhQgAAADCqI2FCAACA+04kYUIAAADH8yRhQgAAgJKYJWFCAAAAXj0mYUIAAIAp4iZhQgAAAPWGJ2FCAACAwCsoYUIAAACM0ChhQgAAgFd1KWFCAAAAIxoqYUIAAIDuviphQgAAALpjK2FCAACAhQgsYUIAAABRrSxhQgAAgBxSLWFCAAAA6PYtYUIAAICzmy5hQgAAAH9AL2FCAACASuUvYUIAAAAWijBhQgAAgOEuMWFCAAAArdMxYUIAAIB4eDJhQgAAAEQdM2FCAACAD8IzYUIAAADbZjRhQgAAgKYLNWFCAAAAcrA1YUIAAIA9VTZhQgAAAAn6NmFCAACA1J43YUIAAACgQzhhQgAAgGvoOGFCAAAAN405YUIAAIACMjphQgAAAM7WOmFCAACAmXs7YUIAAABlIDxhQgAAgDDFPGFCAAAA/Gk9YUIAAIDHDj5hQgAAAJOzPmFCAACAXlg/YUIAAAAq/T9hQgAAgPWhQGFCAAAAwUZBYUIAAICM60FhQgAAAFiQQmFCAACAIzVDYUIAAADv2UNhQgAAgLp+RGFCAAAAhiNFYUIAAIBRyEVhQgAAAB1tRmFCAACA6BFHYUIAAAC0tkdhQgAAgH9bSGFCAAAASwBJYUIAAIAWpUlhQgAAAOJJSmFCAACAre5KYUIAAAB5k0thQgAAgEQ4TGFCAAAAEN1MYUIAAIDbgU1hQgAAAKcmTmFCAACAcstOYUIAAAA+cE9hQgAAgAkVUGFCAAAA1blQYUIAAICgXlFhQgAAAGwDUmFCAACAN6hSYUIAAAADTVNhQgAAgM7xU2FCAAAAmpZUYUIAAIBlO1VhQgAAADHgVWFCAACA/IRWYUIAAADIKVdhQgAAgJPOV2FCAAAAX3NYYUIAAIAqGFlhQgAAAPa8WWFCAACAwWFaYUIAAACNBlthQgAAgFirW2FCAAAAJFBcYUIAAIDv9FxhQgAAALuZXWFCAACAhj5eYUIAAABS415hQgAAgB2IX2FCAAAA6SxgYUIAAIC00WBhQgAAAIB2YWFCAACASxtiYUIAAAAXwGJhQgAAgOJkY2FCAAAArglkYUIAAIB5rmRhQgAAAEVTZWFCAACAEPhlYUIAAADcnGZhQgAAgKdBZ2FCAAAAc+ZnYUIAAIA+i2hhQgAAAAowaWFCAACA1dRpYUIAAACheWphQgAAgGwea2FCAAAAOMNrYUIAAIADaGxhQgAAAM8MbWFCAACAmrFtYUIAAABmVm5hQgAAgDH7bmFCAAAA/Z9vYUIAAIDIRHBhQgAAAJTpcGFCAACAX45xYUIAAAArM3JhQgAAAMJ8c2FCAACAjSF0YUIAAABZxnRhQgAAgCRrdWFCAAAA8A92YUIAAIC7tHZhQgAAAIdZd2FCAACAUv53YUIAAAAeo3hhQgAAgOlHeWFCAAAAtex5YUIAAICAkXphQgAAAEw2e2FCAACAF9t7YUIAAADjf3xhQgAAgK4kfWFCAAAAesl9YUIAAIBFbn5hQgAAABETf2FCAACA3Ld/YUIAAACoXIBhQgAAgHMBgWFCAAAAP6aBYUIAAIAKS4JhQgAAANbvgmFCAACAoZSDYUIAAABtOYRhQgAAgDjehGFCAAAABIOFYUIAAIDPJ4ZhQgAAAJvMhmFCAACAZnGHYUIAAAAyFohhQgAAgP26iGFCAAAAyV+JYUIAAICUBIphQgAAAGCpimFCAACAK06LYUIAAAD38othQgAAgMKXjGFCAAAAjjyNYUIAAIBZ4Y1hQgAAACWGjmFCAACA8CqPYUIAAAC8z49hQgAAgId0kGFCAAAAUxmRYUIAAIAevpFhQgAAAOpikmFCAACAtQeTYUIAAACBrJNhQgAAgExRlGFCAAAAGPaUYUIAAIDjmpVhQgAAAK8/lmFCAACAeuSWYUIAAABGiZdhQgAAgBEumGFCAAAA3dKYYUIAAICod5lhQgAAAHQcmmFCAACAP8GaYUIAAAALZpthQgAAgNYKnGFCAAAAoq+cYUIAAIBtVJ1hQgAAADn5nWFCAACABJ6eYUIAAADQQp9hQgAAgJvnn2FCAAAAZ4ygYUIAAIAyMaFhQgAAAP7VoWFCAACAyXqiYUIAAACVH6NhQgAAgGDEo2FCAAAALGmkYUIAAID3DaVhQgAAAMOypWFCAACAjlemYUIAAABa/KZhQgAAgCWhp2FCAAAA8UWoYUIAAIC86qhhQgAAAIiPqWFCAACAUzSqYUIAAAAf2aphQgAAgOp9q2FCAAAAtiKsYUIAAICBx6xhQgAAAE1srWFCAACAGBGuYUIAAADkta5hQgAAgK9ar2FCAAAAe/+vYUIAAIBGpLBhQgAAABJJsWFCAACA3e2xYUIAAACpkrJhQgAAgHQ3s2FCAAAAQNyzYUIAAIALgbRhQgAAANcltWFCAACAosq1YUIAAABub7ZhQgAAgDkUt2FCAAAABbm3YUIAAIDQXbhhQgAAAJwCuWFCAACAZ6e5YUIAAAAzTLphQgAAgP7wumFCAAAAypW7YUIAAICVOrxhQgAAAGHfvGFCAACALIS9YUIAAAD4KL5hQgAAgMPNvmFCAAAAj3K/YUIAAIBaF8BhQgAAACa8wGFCAACA8WDBYUIAAAC9BcJhQgAAgIiqwmFCAAAAVE/DYUIAAIAf9MNhQgAAAOuYxGFCAACAtj3FYUIAAACC4sVhQgAAgE2HxmFCAAAAGSzHYUIAAIDk0MdhQgAAALB1yGFCAACAexrJYUIAAABHv8lhQgAAgBJkymFCAAAA3gjLYUIAAICprcthQgAAAHVSzGFCAACAQPfMYUIAAAAMnM1hQgAAgNdAzmFCAAAAo+XOYUIAAIBuis9hQgAAADov0GFCAACABdTQYUIAAADReNFhQgAAgJwd0mFCAAAAaMLSYUIAAIAzZ9NhQgAAAP8L1GFCAACAyrDUYUIAAACWVdVhQgAAgGH61WFCAAAALZ/WYUIAAID4Q9dhQgAAAMTo12FCAACAj43YYUIAAABbMtlhQgAAgCbX2WFCAAAA8nvaYUIAAIC9INthQgAAAInF22FCAACAVGrcYUIAAAAgD91hQgAAgOuz3WFCAAAAt1jeYUIAAICC/d5hQgAAAE6i32FCAACAGUfgYUIAAADl6+BhQgAAgLCQ4WFCAAAAfDXiYUIAAIBH2uJhQgAAABN/42FCAACA3iPkYUIAAACqyORhQgAAgHVt5WFCAAAAQRLmYUIAAIAMt+ZhQgAAANhb52FCAACAowDoYUIAAABvpehhQgAAgDpK6WFCAAAABu/pYUIAAIDRk+phQgAAAJ0462FCAACAaN3rYUIAAAA0guxhQgAAgP8m7WFCAAAAy8vtYUIAAICWcO5hQgAAAGIV72FCAACALbrvYUIAAAD5XvBhQgAAgMQD8WFCAAAAkKjxYUIAAIBbTfJhQgAAACfy8mFCAACA8pbzYUIAAAC+O/RhQgAAgIng9GFCAAAAVYX1YUIAAIAgKvZhQgAAAOzO9mFCAACAt3P3YUIAAACDGPhhQgAAgE69+GFCAAAAGmL5YUIAAIDlBvphQgAAALGr+mFCAACAfFD7YUIAAABI9fthQgAAgBOa/GFCAAAA3z79YUIAAICq4/1hQgAAAHaI/mFCAACAQS3/YUIAAAAN0v9hQgAAgNh2AGJCAAAApBsBYkIAAIBvwAFiQgAAADtlAmJCAACABgoDYkIAAADSrgNiQgAAgJ1TBGJCAAAAafgEYkIAAIA0nQViQgAAAABCBmJCAACAy+YGYkIAAACXiwdiQgAAgGIwCGJCAAAALtUIYkIAAID5eQliQgAAAMUeCmJCAACAkMMKYkIAAABcaAtiQgAAgCcNDGJCAAAA87EMYkIAAIC+Vg1iQgAAAIr7DWJCAACAVaAOYkIAAAAhRQ9iQgAAgOzpD2JCAAAAuI4QYkIAAICDMxFiQgAAAE/YEWJCAACAGn0SYkIAAADmIRNiQgAAgLHGE2JCAAAAfWsUYkIAAIBIEBViQgAAABS1FWJCAACA31kWYkIAAACr/hZiQgAAgHajF2JCAAAAQkgYYkIAAIAN7RhiQgAAANmRGWJCAACApDYaYkIAAABw2xpiQgAAgDuAG2JCAAAAByUcYkIAAIDSyRxiQgAAAJ5uHWJCAACAaRMeYkIAAAA1uB5iQgAAgABdH2JCAAAAzAEgYkIAAICXpiBiQgAAAGNLIWJCAACALvAhYkIAAAD6lCJiQgAAgMU5I2JCAAAAkd4jYkIAAIBcgyRiQgAAACgoJWJCAACA88wlYkIAAAC/cSZiQgAAgIoWJ2JCAAAAVrsnYkIAAIAhYChiQgAAAO0EKWJCAACAuKkpYkIAAACETipiQgAAgE/zKmJCAAAAG5grYkIAAIDmPCxiQgAAALLhLGJCAACAfYYtYkIAAABJKy5iQgAAgBTQLmJCAAAA4HQvYkIAAICrGTBiQgAAAHe+MGJCAACAQmMxYkIAAAAOCDJiQgAAgNmsMmJCAAAApVEzYkIAAIBw9jNiQgAAADybNGJCAACAB0A1YkIAAADT5DViQgAAgJ6JNmJCAAAAai43YkIAAIA10zdiQgAAAAF4OGJCAACAzBw5YkIAAACYwTliQgAAgGNmOmJCAAAALws7YkIAAID6rztiQgAAAMZUPGJCAACAkfk8YkIAAABdnj1iQgAAgChDPmJCAAAA9Oc+YkIAAIC/jD9iQgAAAIsxQGJCAACAVtZAYkIAAAAie0FiQgAAgO0fQmJCAAAAucRCYkIAAICEaUNiQgAAAFAORGJCAACAG7NEYkIAAADnV0ViQgAAgLL8RWJCAAAAfqFGYkIAAIBJRkdiQgAAABXrR2JCAACA4I9IYkIAAACsNEliQgAAgHfZSWJCAAAAQ35KYkIAAIAOI0tiQgAAANrHS2JCAACApWxMYkIAAABxEU1iQgAAgDy2TWJCAAAACFtOYkIAAIDT/05iQgAAAJ+kT2JCAACAaklQYkIAAAA27lBiQgAAgAGTUWJCAAAAzTdSYkIAAICY3FJiQgAAAGSBU2JCAACALyZUYkIAAAD7ylRiQgAAgMZvVWJCAAAAkhRWYkIAAIBduVZiQgAAACleV2JCAACA9AJYYkIAAADAp1hiQgAAgItMWWJCAAAAV/FZYkIAAIAillpiQgAAAO46W2JCAACAud9bYkIAAACFhFxiQgAAgFApXWJCAAAAHM5dYkIAAIDncl5iQgAAALMXX2JCAACAfrxfYkIAAABKYWBiQgAAgBUGYWJCAAAA4aphYkIAAICsT2JiQgAAAHj0YmJCAACAQ5ljYkIAAAAPPmRiQgAAgNriZGJCAAAApodlYkIAAIBxLGZiQgAAAD3RZmJCAACACHZnYkIAAADUGmhiQgAAgJ+/aGJCAAAAa2RpYkIAAIA2CWpiQgAAAAKuamJCAACAzVJrYkIAAACZ92tiQgAAgGScbGJCAAAAMEFtYkIAAID75W1iQgAAAMeKbmJCAACAki9vYkIAAABe1G9iQgAAgCl5cGJCAAAA9R1xYkIAAIDAwnFiQgAAAIxncmJCAACAVwxzYkIAAAAjsXNiQgAAgO5VdGJCAAAAuvp0YkIAAICFn3ViQgAAAFFEdmJCAACAHOl2YkIAAADojXdiQgAAgLMyeGJCAAAAf9d4YkIAAIBKfHliQgAAABYhemJCAACA4cV6YkIAAACtantiQgAAgHgPfGJCAAAARLR8YkIAAIAPWX1iQgAAANv9fWJCAACApqJ+YkIAAAByR39iQgAAgD3sf2JCAAAACZGAYkIAAIDUNYFiQgAAAKDagWJCAACAa3+CYkIAAAA3JINiQgAAgALJg2JCAAAAzm2EYkIAAICZEoViQgAAAGW3hWJCAACAMFyGYkIAAAD8AIdiQgAAgMelh2JCAAAAk0qIYkIAAIBe74hiQgAAACqUiWJCAACA9TiKYkIAAADB3YpiQgAAgIyCi2JCAAAAWCeMYkIAAIAjzIxiQgAAAO9wjWJCAACAuhWOYkIAAACGuo5iQgAAgFFfj2JCAAAAHQSQYkIAAIDoqJBiQgAAALRNkWJCAACAf/KRYkIAAABLl5JiQgAAgBY8k2JCAAAA4uCTYkIAAICthZRiQgAAAHkqlWJCAACARM+VYkIAAAAQdJZiQgAAgNsYl2JCAAAAp72XYkIAAIByYphiQgAAAD4HmWJCAACACayZYkIAAADVUJpiQgAAgKD1mmJCAAAAbJqbYkIAAIA3P5xiQgAAAAPknGJCAACAzoidYkIAAACaLZ5iQgAAgGXSnmJCAAAAMXefYkIAAID8G6BiQgAAAMjAoGJCAACAk2WhYkIAAABfCqJiQgAAgCqvomJCAAAA9lOjYkIAAIDB+KNiQgAAAI2dpGJCAACAWEKlYkIAAAAk56ViQgAAgO+LpmJCAAAAuzCnYkIAAICG1adiQgAAAFJ6qGJCAACAHR+pYkIAAADpw6liQgAAgLRoqmJCAAAAgA2rYkIAAIBLsqtiQgAAABdXrGJCAACA4vusYkIAAACuoK1iQgAAgHlFrmJCAAAARequYkIAAIAQj69iQgAAANwzsGJCAACAp9iwYkIAAABzfbFiQgAAgD4ismJCAAAACseyYkIAAIDVa7NiQgAAAKEQtGJCAACAbLW0YkIAAAA4WrViQgAAgAP/tWJCAAAAz6O2YkIAAICaSLdiQgAAAGbtt2JCAACAMZK4YkIAAAD9NrliQgAAgMjbuWJCAAAAlIC6YkIAAIBfJbtiQgAAACvKu2JCAACA9m68YkIAAADCE71iQgAAgI24vWJCAAAAWV2+YkIAAIAkAr9iQgAAAPCmv2JCAACAu0vAYkIAAACH8MBiQgAAgFKVwWJCAAAAHjrCYkIAAIDp3sJiQgAAALWDw2JCAACAgCjEYkIAAABMzcRiQgAAgBdyxWJCAAAA4xbGYkIAAICuu8ZiQgAAAHpgx2JCAACARQXIYkIAAAARqshiQgAAgNxOyWJCAAAAqPPJYkIAAIBzmMpiQgAAAD89y2JCAACACuLLYkIAAADWhsxiQgAAgKErzWJCAAAAbdDNYkIAAIA4dc5iQgAAAAQaz2JCAACAz77PYkIAAACbY9BiQgAAgGYI0WJCAAAAMq3RYkIAAID9UdJiQgAAAMn20mJCAACAlJvTYkIAAABgQNRiQgAAgCvl1GJCAAAA94nVYkIAAIDCLtZiQgAAAI7T1mJCAACAWXjXYkIAAAAlHdhiQgAAgPDB2GJCAAAAvGbZYkIAAICHC9piQgAAAFOw2mJCAACAHlXbYkIAAADq+dtiQgAAgLWe3GJCAAAAgUPdYkIAAIBM6N1iQgAAABiN3mJCAACA4zHfYkIAAACv1t9iQgAAgHp74GJCAAAARiDhYkIAAIARxeFiQgAAAN1p4mJCAACAqA7jYkIAAAB0s+NiQgAAgD9Y5GJCAAAAC/3kYkIAAIDWoeViQgAAAKJG5mJCAACAbevmYkIAAAA5kOdiQgAAgAQ16GJCAAAA0NnoYkIAAICbfuliQgAAAGcj6mJCAACAMsjqYkIAAAD+bOtiQgAAgMkR7GJCAAAAlbbsYkIAAIBgW+1iQgAAACwA7mJCAACA96TuYkIAAADDSe9iQgAAgI7u72JCAAAAWpPwYkIAAIAlOPFiQgAAAPHc8WJCAACAvIHyYkIAAACIJvNiQgAAgFPL82JCAAAAH3D0YkIAAIDqFPViQgAAALa59WJCAACAgV72YkIAAABNA/diQgAAgBio92JCAAAA5Ez4YkIAAICv8fhiQgAAAHuW+WJCAACARjv6YkIAAAAS4PpiQgAAgN2E+2JCAAAAqSn8YkIAAIB0zvxiQgAAAEBz/WJCAACACxj+YkIAAADXvP5iQgAAgKJh/2JCAAAAbgYAY0IAAIA5qwBjQgAAAAVQAWNCAACA0PQBY0IAAACcmQJjQgAAgGc+A2NCAAAAM+MDY0IAAID+hwRjQgAAAMosBWNCAACAldEFY0IAAABhdgZjQgAAgCwbB2NCAAAA+L8HY0IAAIDDZAhjQgAAAI8JCWNCAACAWq4JY0IAAAAmUwpjQgAAgPH3CmNCAAAAvZwLY0IAAICIQQxjQgAAAFTmDGNCAACAH4sNY0IAAADrLw5jQgAAgLbUDmNCAAAAgnkPY0IAAIBNHhBjQgAAABnDEGNCAACA5GcRY0IAAACwDBJjQgAAgHuxEmNCAAAAR1YTY0IAAIAS+xNjQgAAAN6fFGNCAACAqUQVY0IAAAB16RVjQgAAgECOFmNCAAAADDMXY0IAAIDX1xdjQgAAAKN8GGNCAACAbiEZY0IAAAA6xhljQgAAgAVrGmNCAAAA0Q8bY0IAAICctBtjQgAAAGhZHGNCAACAM/4cY0IAAAD/oh1jQgAAgMpHHmNCAAAAluweY0IAAIBhkR9jQgAAAC02IGNCAACA+NogY0IAAADEfyFjQgAAgI8kImNCAAAAW8kiY0IAAIAmbiNjQgAAAPISJGNCAACAvbckY0IAAACJXCVjQgAAgFQBJmNCAAAAIKYmY0IAAIDrSidjQgAAALfvJ2NCAACAgpQoY0IAAABOOSljQgAAgBneKWNCAAAA5YIqY0IAAICwJytjQgAAAHzMK2NCAACAR3EsY0IAAAATFi1jQgAAgN66LWNCAAAAql8uY0IAAIB1BC9jQgAAAEGpL2NCAACADE4wY0IAAADY8jBjQgAAgKOXMWNCAAAAbzwyY0IAAIA64TJjQgAAAAaGM2NCAACA0So0Y0IAAACdzzRjQgAAgGh0NWNCAAAANBk2Y0IAAID/vTZjQgAAAMtiN2NCAACAlgc4Y0IAAABirDhjQgAAgC1ROWNCAAAA+fU5Y0IAAIDEmjpjQgAAAJA/O2NCAACAW+Q7Y0IAAAAniTxjQgAAgPItPWNCAAAAvtI9Y0IAAICJdz5jQgAAAFUcP2NCAACAIME/Y0IAAADsZUBjQgAAgLcKQWNCAAAAg69BY0IAAIBOVEJjQgAAABr5QmNCAACA5Z1DY0IAAACxQkRjQgAAgHznRGNCAAAASIxFY0IAAIATMUZjQgAAAN/VRmNCAACAqnpHY0IAAAB2H0hjQgAAgEHESGNC\",\"dtype\":\"float64\",\"order\":\"little\",\"shape\":[1095]},\"y\":{\"__ndarray__\":\"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\",\"dtype\":\"float64\",\"order\":\"little\",\"shape\":[1095]}},\"selected\":{\"id\":\"1059\"},\"selection_policy\":{\"id\":\"1060\"}},\"id\":\"1041\",\"type\":\"ColumnDataSource\"},{\"attributes\":{\"data\":{\"x\":{\"__ndarray__\":\"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\",\"dtype\":\"float64\",\"order\":\"little\",\"shape\":[1095]},\"y\":{\"__ndarray__\":\"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\",\"dtype\":\"float64\",\"order\":\"little\",\"shape\":[1095]}},\"selected\":{\"id\":\"1061\"},\"selection_policy\":{\"id\":\"1062\"}},\"id\":\"1046\",\"type\":\"ColumnDataSource\"},{\"attributes\":{},\"id\":\"1059\",\"type\":\"Selection\"},{\"attributes\":{\"bottom_units\":\"screen\",\"fill_alpha\":0.5,\"fill_color\":\"lightgrey\",\"left_units\":\"screen\",\"level\":\"overlay\",\"line_alpha\":1.0,\"line_color\":\"black\",\"line_dash\":[4,4],\"line_width\":2,\"right_units\":\"screen\",\"syncable\":false,\"top_units\":\"screen\"},\"id\":\"1031\",\"type\":\"BoxAnnotation\"},{\"attributes\":{\"days\":[1,15]},\"id\":\"1069\",\"type\":\"DaysTicker\"},{\"attributes\":{\"active_multi\":null,\"active_scroll\":{\"id\":\"1025\"},\"tools\":[{\"id\":\"1024\"},{\"id\":\"1025\"},{\"id\":\"1026\"},{\"id\":\"1027\"},{\"id\":\"1028\"},{\"id\":\"1029\"},{\"id\":\"1004\"}]},\"id\":\"1032\",\"type\":\"Toolbar\"},{\"attributes\":{\"num_minor_ticks\":5,\"tickers\":[{\"id\":\"1063\"},{\"id\":\"1064\"},{\"id\":\"1065\"},{\"id\":\"1066\"},{\"id\":\"1067\"},{\"id\":\"1068\"},{\"id\":\"1069\"},{\"id\":\"1070\"},{\"id\":\"1071\"},{\"id\":\"1072\"},{\"id\":\"1073\"},{\"id\":\"1074\"}]},\"id\":\"1017\",\"type\":\"DatetimeTicker\"},{\"attributes\":{\"base\":24,\"mantissas\":[1,2,4,6,8,12],\"max_interval\":43200000.0,\"min_interval\":3600000.0,\"num_minor_ticks\":0},\"id\":\"1065\",\"type\":\"AdaptiveTicker\"},{\"attributes\":{\"axis\":{\"id\":\"1020\"},\"dimension\":1,\"ticker\":null},\"id\":\"1023\",\"type\":\"Grid\"},{\"attributes\":{},\"id\":\"1012\",\"type\":\"LinearScale\"},{\"attributes\":{},\"id\":\"1054\",\"type\":\"AllLabels\"},{\"attributes\":{\"days\":[1,8,15,22]},\"id\":\"1068\",\"type\":\"DaysTicker\"},{\"attributes\":{\"bottom_units\":\"screen\",\"fill_alpha\":0.5,\"fill_color\":\"lightgrey\",\"left_units\":\"screen\",\"level\":\"overlay\",\"line_alpha\":1.0,\"line_color\":\"black\",\"line_dash\":[4,4],\"line_width\":2,\"right_units\":\"screen\",\"syncable\":false,\"top_units\":\"screen\"},\"id\":\"1030\",\"type\":\"BoxAnnotation\"},{\"attributes\":{},\"id\":\"1060\",\"type\":\"UnionRenderers\"},{\"attributes\":{\"callback\":null,\"formatters\":{\"@x\":\"datetime\"},\"mode\":\"vline\",\"tooltips\":[[\"date\",\"@x{%d-%m-%YT%H:%M:%S}\"],[\"value\",\"@y\"]]},\"id\":\"1004\",\"type\":\"HoverTool\"},{\"attributes\":{},\"id\":\"1062\",\"type\":\"UnionRenderers\"},{\"attributes\":{},\"id\":\"1052\",\"type\":\"BasicTickFormatter\"},{\"attributes\":{\"months\":[0,2,4,6,8,10]},\"id\":\"1071\",\"type\":\"MonthsTicker\"},{\"attributes\":{},\"id\":\"1008\",\"type\":\"DataRange1d\"},{\"attributes\":{},\"id\":\"1006\",\"type\":\"Title\"},{\"attributes\":{\"days\":[1,4,7,10,13,16,19,22,25,28]},\"id\":\"1067\",\"type\":\"DaysTicker\"},{\"attributes\":{\"months\":[0,4,8]},\"id\":\"1072\",\"type\":\"MonthsTicker\"},{\"attributes\":{},\"id\":\"1010\",\"type\":\"DataRange1d\"},{\"attributes\":{},\"id\":\"1028\",\"type\":\"SaveTool\"},{\"attributes\":{\"line_alpha\":0.1,\"line_color\":\"#1f77b4\",\"line_width\":2,\"x\":{\"field\":\"x\"},\"y\":{\"field\":\"y\"}},\"id\":\"1043\",\"type\":\"Line\"},{\"attributes\":{\"line_color\":\"#1f77b4\",\"line_width\":2,\"x\":{\"field\":\"x\"},\"y\":{\"field\":\"y\"}},\"id\":\"1042\",\"type\":\"Line\"},{\"attributes\":{\"source\":{\"id\":\"1041\"}},\"id\":\"1045\",\"type\":\"CDSView\"},{\"attributes\":{\"days\":[1,2,3,4,5,6,7,8,9,10,11,12,13,14,15,16,17,18,19,20,21,22,23,24,25,26,27,28,29,30,31]},\"id\":\"1066\",\"type\":\"DaysTicker\"},{\"attributes\":{\"source\":{\"id\":\"1046\"}},\"id\":\"1050\",\"type\":\"CDSView\"},{\"attributes\":{\"axis_label\":\"value\",\"formatter\":{\"id\":\"1052\"},\"major_label_policy\":{\"id\":\"1054\"},\"ticker\":{\"id\":\"1021\"}},\"id\":\"1020\",\"type\":\"LinearAxis\"},{\"attributes\":{\"months\":[0,6]},\"id\":\"1073\",\"type\":\"MonthsTicker\"},{\"attributes\":{\"data_source\":{\"id\":\"1046\"},\"glyph\":{\"id\":\"1047\"},\"hover_glyph\":null,\"muted_glyph\":null,\"nonselection_glyph\":{\"id\":\"1048\"},\"view\":{\"id\":\"1050\"}},\"id\":\"1049\",\"type\":\"GlyphRenderer\"}],\"root_ids\":[\"1005\"]},\"title\":\"Bokeh Application\",\"version\":\"2.3.3\"}};\n",
       "  var render_items = [{\"docid\":\"ac9834e6-352f-4fd3-92ec-9b7d27ed70d5\",\"root_ids\":[\"1005\"],\"roots\":{\"1005\":\"9e2553ee-81f4-48d3-ac3a-49194d4e38be\"}}];\n",
       "  root.Bokeh.embed.embed_items_notebook(docs_json, render_items);\n",
       "\n",
       "  }\n",
       "  if (root.Bokeh !== undefined) {\n",
       "    embed_document(root);\n",
       "  } else {\n",
       "    var attempts = 0;\n",
       "    var timer = setInterval(function(root) {\n",
       "      if (root.Bokeh !== undefined) {\n",
       "        clearInterval(timer);\n",
       "        embed_document(root);\n",
       "      } else {\n",
       "        attempts++;\n",
       "        if (attempts > 100) {\n",
       "          clearInterval(timer);\n",
       "          console.log(\"Bokeh: ERROR: Unable to run BokehJS code because BokehJS library is missing\");\n",
       "        }\n",
       "      }\n",
       "    }, 10, root)\n",
       "  }\n",
       "})(window);"
      ],
      "application/vnd.bokehjs_exec.v0+json": ""
     },
     "metadata": {
      "application/vnd.bokehjs_exec.v0+json": {
       "id": "1005"
      }
     },
     "output_type": "display_data"
    }
   ],
   "source": [
    "plot_ts(ts_test, preds)"
   ]
  },
  {
   "cell_type": "code",
   "execution_count": 25,
   "id": "municipal-backing",
   "metadata": {},
   "outputs": [
    {
     "data": {
      "text/plain": [
       "10.188868678491367"
      ]
     },
     "execution_count": 25,
     "metadata": {},
     "output_type": "execute_result"
    }
   ],
   "source": [
    "mse(ts_test, preds)"
   ]
  },
  {
   "cell_type": "markdown",
   "id": "regular-serbia",
   "metadata": {},
   "source": [
    "### Получение in-sample (когда каждая точка нам известна) прогноза"
   ]
  },
  {
   "cell_type": "markdown",
   "id": "consecutive-discount",
   "metadata": {},
   "source": [
    "в таком случае мы должны вторым аргументов передать реальный тест, такм образом этим методом мы смотрим как бы мы предсказали ts_test если бы мы предсказывали на одну точку вперед, т.е. нам всегда известна реальная предыдущая точка"
   ]
  },
  {
   "cell_type": "code",
   "execution_count": 26,
   "id": "obvious-dollar",
   "metadata": {},
   "outputs": [],
   "source": [
    "preds = predictor.predict_batch(ts_train, ts_test)"
   ]
  },
  {
   "cell_type": "code",
   "execution_count": 27,
   "id": "integrated-treatment",
   "metadata": {},
   "outputs": [
    {
     "data": {
      "text/html": [
       "\n",
       "    <div class=\"bk-root\">\n",
       "        <a href=\"https://bokeh.org\" target=\"_blank\" class=\"bk-logo bk-logo-small bk-logo-notebook\"></a>\n",
       "        <span id=\"1195\">Loading BokehJS ...</span>\n",
       "    </div>"
      ]
     },
     "metadata": {},
     "output_type": "display_data"
    },
    {
     "data": {
      "application/javascript": [
       "\n",
       "(function(root) {\n",
       "  function now() {\n",
       "    return new Date();\n",
       "  }\n",
       "\n",
       "  var force = true;\n",
       "\n",
       "  if (typeof root._bokeh_onload_callbacks === \"undefined\" || force === true) {\n",
       "    root._bokeh_onload_callbacks = [];\n",
       "    root._bokeh_is_loading = undefined;\n",
       "  }\n",
       "\n",
       "  var JS_MIME_TYPE = 'application/javascript';\n",
       "  var HTML_MIME_TYPE = 'text/html';\n",
       "  var EXEC_MIME_TYPE = 'application/vnd.bokehjs_exec.v0+json';\n",
       "  var CLASS_NAME = 'output_bokeh rendered_html';\n",
       "\n",
       "  /**\n",
       "   * Render data to the DOM node\n",
       "   */\n",
       "  function render(props, node) {\n",
       "    var script = document.createElement(\"script\");\n",
       "    node.appendChild(script);\n",
       "  }\n",
       "\n",
       "  /**\n",
       "   * Handle when an output is cleared or removed\n",
       "   */\n",
       "  function handleClearOutput(event, handle) {\n",
       "    var cell = handle.cell;\n",
       "\n",
       "    var id = cell.output_area._bokeh_element_id;\n",
       "    var server_id = cell.output_area._bokeh_server_id;\n",
       "    // Clean up Bokeh references\n",
       "    if (id != null && id in Bokeh.index) {\n",
       "      Bokeh.index[id].model.document.clear();\n",
       "      delete Bokeh.index[id];\n",
       "    }\n",
       "\n",
       "    if (server_id !== undefined) {\n",
       "      // Clean up Bokeh references\n",
       "      var cmd = \"from bokeh.io.state import curstate; print(curstate().uuid_to_server['\" + server_id + \"'].get_sessions()[0].document.roots[0]._id)\";\n",
       "      cell.notebook.kernel.execute(cmd, {\n",
       "        iopub: {\n",
       "          output: function(msg) {\n",
       "            var id = msg.content.text.trim();\n",
       "            if (id in Bokeh.index) {\n",
       "              Bokeh.index[id].model.document.clear();\n",
       "              delete Bokeh.index[id];\n",
       "            }\n",
       "          }\n",
       "        }\n",
       "      });\n",
       "      // Destroy server and session\n",
       "      var cmd = \"import bokeh.io.notebook as ion; ion.destroy_server('\" + server_id + \"')\";\n",
       "      cell.notebook.kernel.execute(cmd);\n",
       "    }\n",
       "  }\n",
       "\n",
       "  /**\n",
       "   * Handle when a new output is added\n",
       "   */\n",
       "  function handleAddOutput(event, handle) {\n",
       "    var output_area = handle.output_area;\n",
       "    var output = handle.output;\n",
       "\n",
       "    // limit handleAddOutput to display_data with EXEC_MIME_TYPE content only\n",
       "    if ((output.output_type != \"display_data\") || (!Object.prototype.hasOwnProperty.call(output.data, EXEC_MIME_TYPE))) {\n",
       "      return\n",
       "    }\n",
       "\n",
       "    var toinsert = output_area.element.find(\".\" + CLASS_NAME.split(' ')[0]);\n",
       "\n",
       "    if (output.metadata[EXEC_MIME_TYPE][\"id\"] !== undefined) {\n",
       "      toinsert[toinsert.length - 1].firstChild.textContent = output.data[JS_MIME_TYPE];\n",
       "      // store reference to embed id on output_area\n",
       "      output_area._bokeh_element_id = output.metadata[EXEC_MIME_TYPE][\"id\"];\n",
       "    }\n",
       "    if (output.metadata[EXEC_MIME_TYPE][\"server_id\"] !== undefined) {\n",
       "      var bk_div = document.createElement(\"div\");\n",
       "      bk_div.innerHTML = output.data[HTML_MIME_TYPE];\n",
       "      var script_attrs = bk_div.children[0].attributes;\n",
       "      for (var i = 0; i < script_attrs.length; i++) {\n",
       "        toinsert[toinsert.length - 1].firstChild.setAttribute(script_attrs[i].name, script_attrs[i].value);\n",
       "        toinsert[toinsert.length - 1].firstChild.textContent = bk_div.children[0].textContent\n",
       "      }\n",
       "      // store reference to server id on output_area\n",
       "      output_area._bokeh_server_id = output.metadata[EXEC_MIME_TYPE][\"server_id\"];\n",
       "    }\n",
       "  }\n",
       "\n",
       "  function register_renderer(events, OutputArea) {\n",
       "\n",
       "    function append_mime(data, metadata, element) {\n",
       "      // create a DOM node to render to\n",
       "      var toinsert = this.create_output_subarea(\n",
       "        metadata,\n",
       "        CLASS_NAME,\n",
       "        EXEC_MIME_TYPE\n",
       "      );\n",
       "      this.keyboard_manager.register_events(toinsert);\n",
       "      // Render to node\n",
       "      var props = {data: data, metadata: metadata[EXEC_MIME_TYPE]};\n",
       "      render(props, toinsert[toinsert.length - 1]);\n",
       "      element.append(toinsert);\n",
       "      return toinsert\n",
       "    }\n",
       "\n",
       "    /* Handle when an output is cleared or removed */\n",
       "    events.on('clear_output.CodeCell', handleClearOutput);\n",
       "    events.on('delete.Cell', handleClearOutput);\n",
       "\n",
       "    /* Handle when a new output is added */\n",
       "    events.on('output_added.OutputArea', handleAddOutput);\n",
       "\n",
       "    /**\n",
       "     * Register the mime type and append_mime function with output_area\n",
       "     */\n",
       "    OutputArea.prototype.register_mime_type(EXEC_MIME_TYPE, append_mime, {\n",
       "      /* Is output safe? */\n",
       "      safe: true,\n",
       "      /* Index of renderer in `output_area.display_order` */\n",
       "      index: 0\n",
       "    });\n",
       "  }\n",
       "\n",
       "  // register the mime type if in Jupyter Notebook environment and previously unregistered\n",
       "  if (root.Jupyter !== undefined) {\n",
       "    var events = require('base/js/events');\n",
       "    var OutputArea = require('notebook/js/outputarea').OutputArea;\n",
       "\n",
       "    if (OutputArea.prototype.mime_types().indexOf(EXEC_MIME_TYPE) == -1) {\n",
       "      register_renderer(events, OutputArea);\n",
       "    }\n",
       "  }\n",
       "\n",
       "  \n",
       "  if (typeof (root._bokeh_timeout) === \"undefined\" || force === true) {\n",
       "    root._bokeh_timeout = Date.now() + 5000;\n",
       "    root._bokeh_failed_load = false;\n",
       "  }\n",
       "\n",
       "  var NB_LOAD_WARNING = {'data': {'text/html':\n",
       "     \"<div style='background-color: #fdd'>\\n\"+\n",
       "     \"<p>\\n\"+\n",
       "     \"BokehJS does not appear to have successfully loaded. If loading BokehJS from CDN, this \\n\"+\n",
       "     \"may be due to a slow or bad network connection. Possible fixes:\\n\"+\n",
       "     \"</p>\\n\"+\n",
       "     \"<ul>\\n\"+\n",
       "     \"<li>re-rerun `output_notebook()` to attempt to load from CDN again, or</li>\\n\"+\n",
       "     \"<li>use INLINE resources instead, as so:</li>\\n\"+\n",
       "     \"</ul>\\n\"+\n",
       "     \"<code>\\n\"+\n",
       "     \"from bokeh.resources import INLINE\\n\"+\n",
       "     \"output_notebook(resources=INLINE)\\n\"+\n",
       "     \"</code>\\n\"+\n",
       "     \"</div>\"}};\n",
       "\n",
       "  function display_loaded() {\n",
       "    var el = document.getElementById(\"1195\");\n",
       "    if (el != null) {\n",
       "      el.textContent = \"BokehJS is loading...\";\n",
       "    }\n",
       "    if (root.Bokeh !== undefined) {\n",
       "      if (el != null) {\n",
       "        el.textContent = \"BokehJS \" + root.Bokeh.version + \" successfully loaded.\";\n",
       "      }\n",
       "    } else if (Date.now() < root._bokeh_timeout) {\n",
       "      setTimeout(display_loaded, 100)\n",
       "    }\n",
       "  }\n",
       "\n",
       "\n",
       "  function run_callbacks() {\n",
       "    try {\n",
       "      root._bokeh_onload_callbacks.forEach(function(callback) {\n",
       "        if (callback != null)\n",
       "          callback();\n",
       "      });\n",
       "    } finally {\n",
       "      delete root._bokeh_onload_callbacks\n",
       "    }\n",
       "    console.debug(\"Bokeh: all callbacks have finished\");\n",
       "  }\n",
       "\n",
       "  function load_libs(css_urls, js_urls, callback) {\n",
       "    if (css_urls == null) css_urls = [];\n",
       "    if (js_urls == null) js_urls = [];\n",
       "\n",
       "    root._bokeh_onload_callbacks.push(callback);\n",
       "    if (root._bokeh_is_loading > 0) {\n",
       "      console.debug(\"Bokeh: BokehJS is being loaded, scheduling callback at\", now());\n",
       "      return null;\n",
       "    }\n",
       "    if (js_urls == null || js_urls.length === 0) {\n",
       "      run_callbacks();\n",
       "      return null;\n",
       "    }\n",
       "    console.debug(\"Bokeh: BokehJS not loaded, scheduling load and callback at\", now());\n",
       "    root._bokeh_is_loading = css_urls.length + js_urls.length;\n",
       "\n",
       "    function on_load() {\n",
       "      root._bokeh_is_loading--;\n",
       "      if (root._bokeh_is_loading === 0) {\n",
       "        console.debug(\"Bokeh: all BokehJS libraries/stylesheets loaded\");\n",
       "        run_callbacks()\n",
       "      }\n",
       "    }\n",
       "\n",
       "    function on_error(url) {\n",
       "      console.error(\"failed to load \" + url);\n",
       "    }\n",
       "\n",
       "    for (let i = 0; i < css_urls.length; i++) {\n",
       "      const url = css_urls[i];\n",
       "      const element = document.createElement(\"link\");\n",
       "      element.onload = on_load;\n",
       "      element.onerror = on_error.bind(null, url);\n",
       "      element.rel = \"stylesheet\";\n",
       "      element.type = \"text/css\";\n",
       "      element.href = url;\n",
       "      console.debug(\"Bokeh: injecting link tag for BokehJS stylesheet: \", url);\n",
       "      document.body.appendChild(element);\n",
       "    }\n",
       "\n",
       "    const hashes = {\"https://cdn.bokeh.org/bokeh/release/bokeh-2.3.3.min.js\": \"dM3QQsP+wXdHg42wTqW85BjZQdLNNIXqlPw/BgKoExPmTG7ZLML4EGqLMfqHT6ON\", \"https://cdn.bokeh.org/bokeh/release/bokeh-tables-2.3.3.min.js\": \"8x57I4YuIfu8XyZfFo0XVr2WAT8EK4rh/uDe3wF7YuW2FNUSNEpJbsPaB1nJ2fz2\", \"https://cdn.bokeh.org/bokeh/release/bokeh-widgets-2.3.3.min.js\": \"3QTqdz9LyAm2i0sG5XTePsHec3UHWwVsrOL68SYRoAXsafvfAyqtQ+h440+qIBhS\"};\n",
       "\n",
       "    for (let i = 0; i < js_urls.length; i++) {\n",
       "      const url = js_urls[i];\n",
       "      const element = document.createElement('script');\n",
       "      element.onload = on_load;\n",
       "      element.onerror = on_error.bind(null, url);\n",
       "      element.async = false;\n",
       "      element.src = url;\n",
       "      if (url in hashes) {\n",
       "        element.crossOrigin = \"anonymous\";\n",
       "        element.integrity = \"sha384-\" + hashes[url];\n",
       "      }\n",
       "      console.debug(\"Bokeh: injecting script tag for BokehJS library: \", url);\n",
       "      document.head.appendChild(element);\n",
       "    }\n",
       "  };\n",
       "\n",
       "  function inject_raw_css(css) {\n",
       "    const element = document.createElement(\"style\");\n",
       "    element.appendChild(document.createTextNode(css));\n",
       "    document.body.appendChild(element);\n",
       "  }\n",
       "\n",
       "  \n",
       "  var js_urls = [\"https://cdn.bokeh.org/bokeh/release/bokeh-2.3.3.min.js\", \"https://cdn.bokeh.org/bokeh/release/bokeh-widgets-2.3.3.min.js\", \"https://cdn.bokeh.org/bokeh/release/bokeh-tables-2.3.3.min.js\"];\n",
       "  var css_urls = [];\n",
       "  \n",
       "\n",
       "  var inline_js = [\n",
       "    function(Bokeh) {\n",
       "      Bokeh.set_log_level(\"info\");\n",
       "    },\n",
       "    function(Bokeh) {\n",
       "    \n",
       "    \n",
       "    }\n",
       "  ];\n",
       "\n",
       "  function run_inline_js() {\n",
       "    \n",
       "    if (root.Bokeh !== undefined || force === true) {\n",
       "      \n",
       "    for (var i = 0; i < inline_js.length; i++) {\n",
       "      inline_js[i].call(root, root.Bokeh);\n",
       "    }\n",
       "    if (force === true) {\n",
       "        display_loaded();\n",
       "      }} else if (Date.now() < root._bokeh_timeout) {\n",
       "      setTimeout(run_inline_js, 100);\n",
       "    } else if (!root._bokeh_failed_load) {\n",
       "      console.log(\"Bokeh: BokehJS failed to load within specified timeout.\");\n",
       "      root._bokeh_failed_load = true;\n",
       "    } else if (force !== true) {\n",
       "      var cell = $(document.getElementById(\"1195\")).parents('.cell').data().cell;\n",
       "      cell.output_area.append_execute_result(NB_LOAD_WARNING)\n",
       "    }\n",
       "\n",
       "  }\n",
       "\n",
       "  if (root._bokeh_is_loading === 0) {\n",
       "    console.debug(\"Bokeh: BokehJS loaded, going straight to plotting\");\n",
       "    run_inline_js();\n",
       "  } else {\n",
       "    load_libs(css_urls, js_urls, function() {\n",
       "      console.debug(\"Bokeh: BokehJS plotting callback run at\", now());\n",
       "      run_inline_js();\n",
       "    });\n",
       "  }\n",
       "}(window));"
      ],
      "application/vnd.bokehjs_load.v0+json": "\n(function(root) {\n  function now() {\n    return new Date();\n  }\n\n  var force = true;\n\n  if (typeof root._bokeh_onload_callbacks === \"undefined\" || force === true) {\n    root._bokeh_onload_callbacks = [];\n    root._bokeh_is_loading = undefined;\n  }\n\n  \n\n  \n  if (typeof (root._bokeh_timeout) === \"undefined\" || force === true) {\n    root._bokeh_timeout = Date.now() + 5000;\n    root._bokeh_failed_load = false;\n  }\n\n  var NB_LOAD_WARNING = {'data': {'text/html':\n     \"<div style='background-color: #fdd'>\\n\"+\n     \"<p>\\n\"+\n     \"BokehJS does not appear to have successfully loaded. If loading BokehJS from CDN, this \\n\"+\n     \"may be due to a slow or bad network connection. Possible fixes:\\n\"+\n     \"</p>\\n\"+\n     \"<ul>\\n\"+\n     \"<li>re-rerun `output_notebook()` to attempt to load from CDN again, or</li>\\n\"+\n     \"<li>use INLINE resources instead, as so:</li>\\n\"+\n     \"</ul>\\n\"+\n     \"<code>\\n\"+\n     \"from bokeh.resources import INLINE\\n\"+\n     \"output_notebook(resources=INLINE)\\n\"+\n     \"</code>\\n\"+\n     \"</div>\"}};\n\n  function display_loaded() {\n    var el = document.getElementById(\"1195\");\n    if (el != null) {\n      el.textContent = \"BokehJS is loading...\";\n    }\n    if (root.Bokeh !== undefined) {\n      if (el != null) {\n        el.textContent = \"BokehJS \" + root.Bokeh.version + \" successfully loaded.\";\n      }\n    } else if (Date.now() < root._bokeh_timeout) {\n      setTimeout(display_loaded, 100)\n    }\n  }\n\n\n  function run_callbacks() {\n    try {\n      root._bokeh_onload_callbacks.forEach(function(callback) {\n        if (callback != null)\n          callback();\n      });\n    } finally {\n      delete root._bokeh_onload_callbacks\n    }\n    console.debug(\"Bokeh: all callbacks have finished\");\n  }\n\n  function load_libs(css_urls, js_urls, callback) {\n    if (css_urls == null) css_urls = [];\n    if (js_urls == null) js_urls = [];\n\n    root._bokeh_onload_callbacks.push(callback);\n    if (root._bokeh_is_loading > 0) {\n      console.debug(\"Bokeh: BokehJS is being loaded, scheduling callback at\", now());\n      return null;\n    }\n    if (js_urls == null || js_urls.length === 0) {\n      run_callbacks();\n      return null;\n    }\n    console.debug(\"Bokeh: BokehJS not loaded, scheduling load and callback at\", now());\n    root._bokeh_is_loading = css_urls.length + js_urls.length;\n\n    function on_load() {\n      root._bokeh_is_loading--;\n      if (root._bokeh_is_loading === 0) {\n        console.debug(\"Bokeh: all BokehJS libraries/stylesheets loaded\");\n        run_callbacks()\n      }\n    }\n\n    function on_error(url) {\n      console.error(\"failed to load \" + url);\n    }\n\n    for (let i = 0; i < css_urls.length; i++) {\n      const url = css_urls[i];\n      const element = document.createElement(\"link\");\n      element.onload = on_load;\n      element.onerror = on_error.bind(null, url);\n      element.rel = \"stylesheet\";\n      element.type = \"text/css\";\n      element.href = url;\n      console.debug(\"Bokeh: injecting link tag for BokehJS stylesheet: \", url);\n      document.body.appendChild(element);\n    }\n\n    const hashes = {\"https://cdn.bokeh.org/bokeh/release/bokeh-2.3.3.min.js\": \"dM3QQsP+wXdHg42wTqW85BjZQdLNNIXqlPw/BgKoExPmTG7ZLML4EGqLMfqHT6ON\", \"https://cdn.bokeh.org/bokeh/release/bokeh-tables-2.3.3.min.js\": \"8x57I4YuIfu8XyZfFo0XVr2WAT8EK4rh/uDe3wF7YuW2FNUSNEpJbsPaB1nJ2fz2\", \"https://cdn.bokeh.org/bokeh/release/bokeh-widgets-2.3.3.min.js\": \"3QTqdz9LyAm2i0sG5XTePsHec3UHWwVsrOL68SYRoAXsafvfAyqtQ+h440+qIBhS\"};\n\n    for (let i = 0; i < js_urls.length; i++) {\n      const url = js_urls[i];\n      const element = document.createElement('script');\n      element.onload = on_load;\n      element.onerror = on_error.bind(null, url);\n      element.async = false;\n      element.src = url;\n      if (url in hashes) {\n        element.crossOrigin = \"anonymous\";\n        element.integrity = \"sha384-\" + hashes[url];\n      }\n      console.debug(\"Bokeh: injecting script tag for BokehJS library: \", url);\n      document.head.appendChild(element);\n    }\n  };\n\n  function inject_raw_css(css) {\n    const element = document.createElement(\"style\");\n    element.appendChild(document.createTextNode(css));\n    document.body.appendChild(element);\n  }\n\n  \n  var js_urls = [\"https://cdn.bokeh.org/bokeh/release/bokeh-2.3.3.min.js\", \"https://cdn.bokeh.org/bokeh/release/bokeh-widgets-2.3.3.min.js\", \"https://cdn.bokeh.org/bokeh/release/bokeh-tables-2.3.3.min.js\"];\n  var css_urls = [];\n  \n\n  var inline_js = [\n    function(Bokeh) {\n      Bokeh.set_log_level(\"info\");\n    },\n    function(Bokeh) {\n    \n    \n    }\n  ];\n\n  function run_inline_js() {\n    \n    if (root.Bokeh !== undefined || force === true) {\n      \n    for (var i = 0; i < inline_js.length; i++) {\n      inline_js[i].call(root, root.Bokeh);\n    }\n    if (force === true) {\n        display_loaded();\n      }} else if (Date.now() < root._bokeh_timeout) {\n      setTimeout(run_inline_js, 100);\n    } else if (!root._bokeh_failed_load) {\n      console.log(\"Bokeh: BokehJS failed to load within specified timeout.\");\n      root._bokeh_failed_load = true;\n    } else if (force !== true) {\n      var cell = $(document.getElementById(\"1195\")).parents('.cell').data().cell;\n      cell.output_area.append_execute_result(NB_LOAD_WARNING)\n    }\n\n  }\n\n  if (root._bokeh_is_loading === 0) {\n    console.debug(\"Bokeh: BokehJS loaded, going straight to plotting\");\n    run_inline_js();\n  } else {\n    load_libs(css_urls, js_urls, function() {\n      console.debug(\"Bokeh: BokehJS plotting callback run at\", now());\n      run_inline_js();\n    });\n  }\n}(window));"
     },
     "metadata": {},
     "output_type": "display_data"
    },
    {
     "data": {
      "text/html": [
       "\n",
       "\n",
       "\n",
       "\n",
       "\n",
       "\n",
       "  <div class=\"bk-root\" id=\"d3b84126-727b-4f2f-abc6-c4414be726a9\" data-root-id=\"1198\"></div>\n"
      ]
     },
     "metadata": {},
     "output_type": "display_data"
    },
    {
     "data": {
      "application/javascript": [
       "(function(root) {\n",
       "  function embed_document(root) {\n",
       "    \n",
       "  var docs_json = {\"7956bba8-3db6-47f0-ba08-709ddf972495\":{\"defs\":[],\"roots\":{\"references\":[{\"attributes\":{\"below\":[{\"id\":\"1209\"}],\"center\":[{\"id\":\"1212\"},{\"id\":\"1216\"}],\"left\":[{\"id\":\"1213\"}],\"renderers\":[{\"id\":\"1237\"},{\"id\":\"1242\"}],\"title\":{\"id\":\"1199\"},\"toolbar\":{\"id\":\"1225\"},\"width\":900,\"x_range\":{\"id\":\"1201\"},\"x_scale\":{\"id\":\"1205\"},\"y_range\":{\"id\":\"1203\"},\"y_scale\":{\"id\":\"1207\"}},\"id\":\"1198\",\"subtype\":\"Figure\",\"type\":\"Plot\"},{\"attributes\":{},\"id\":\"1291\",\"type\":\"YearsTicker\"},{\"attributes\":{\"months\":[0,6]},\"id\":\"1290\",\"type\":\"MonthsTicker\"},{\"attributes\":{\"days\":[1,15]},\"id\":\"1286\",\"type\":\"DaysTicker\"},{\"attributes\":{\"bottom_units\":\"screen\",\"fill_alpha\":0.5,\"fill_color\":\"lightgrey\",\"left_units\":\"screen\",\"level\":\"overlay\",\"line_alpha\":1.0,\"line_color\":\"black\",\"line_dash\":[4,4],\"line_width\":2,\"right_units\":\"screen\",\"syncable\":false,\"top_units\":\"screen\"},\"id\":\"1223\",\"type\":\"BoxAnnotation\"},{\"attributes\":{},\"id\":\"1276\",\"type\":\"Selection\"},{\"attributes\":{\"days\":[1,4,7,10,13,16,19,22,25,28]},\"id\":\"1284\",\"type\":\"DaysTicker\"},{\"attributes\":{\"axis\":{\"id\":\"1213\"},\"dimension\":1,\"ticker\":null},\"id\":\"1216\",\"type\":\"Grid\"},{\"attributes\":{\"months\":[0,2,4,6,8,10]},\"id\":\"1288\",\"type\":\"MonthsTicker\"},{\"attributes\":{\"days\":[1,8,15,22]},\"id\":\"1285\",\"type\":\"DaysTicker\"},{\"attributes\":{},\"id\":\"1277\",\"type\":\"UnionRenderers\"},{\"attributes\":{\"months\":[0,1,2,3,4,5,6,7,8,9,10,11]},\"id\":\"1287\",\"type\":\"MonthsTicker\"},{\"attributes\":{\"line_alpha\":0.1,\"line_color\":\"#1f77b4\",\"line_width\":2,\"x\":{\"field\":\"x\"},\"y\":{\"field\":\"y\"}},\"id\":\"1236\",\"type\":\"Line\"},{\"attributes\":{\"bottom_units\":\"screen\",\"fill_alpha\":0.5,\"fill_color\":\"lightgrey\",\"left_units\":\"screen\",\"level\":\"overlay\",\"line_alpha\":1.0,\"line_color\":\"black\",\"line_dash\":[4,4],\"line_width\":2,\"right_units\":\"screen\",\"syncable\":false,\"top_units\":\"screen\"},\"id\":\"1224\",\"type\":\"BoxAnnotation\"},{\"attributes\":{\"axis_label\":\"value\",\"formatter\":{\"id\":\"1269\"},\"major_label_policy\":{\"id\":\"1271\"},\"ticker\":{\"id\":\"1214\"}},\"id\":\"1213\",\"type\":\"LinearAxis\"},{\"attributes\":{\"months\":[0,4,8]},\"id\":\"1289\",\"type\":\"MonthsTicker\"},{\"attributes\":{\"overlay\":{\"id\":\"1224\"}},\"id\":\"1219\",\"type\":\"BoxZoomTool\"},{\"attributes\":{\"data\":{\"x\":{\"__ndarray__\":\"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\",\"dtype\":\"float64\",\"order\":\"little\",\"shape\":[1095]},\"y\":{\"__ndarray__\":\"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\",\"dtype\":\"float64\",\"order\":\"little\",\"shape\":[1095]}},\"selected\":{\"id\":\"1278\"},\"selection_policy\":{\"id\":\"1279\"}},\"id\":\"1239\",\"type\":\"ColumnDataSource\"},{\"attributes\":{},\"id\":\"1207\",\"type\":\"LinearScale\"},{\"attributes\":{},\"id\":\"1269\",\"type\":\"BasicTickFormatter\"},{\"attributes\":{\"line_alpha\":0.1,\"line_color\":\"orange\",\"line_width\":2,\"x\":{\"field\":\"x\"},\"y\":{\"field\":\"y\"}},\"id\":\"1241\",\"type\":\"Line\"},{\"attributes\":{},\"id\":\"1205\",\"type\":\"LinearScale\"},{\"attributes\":{},\"id\":\"1271\",\"type\":\"AllLabels\"},{\"attributes\":{},\"id\":\"1278\",\"type\":\"Selection\"},{\"attributes\":{\"num_minor_ticks\":5,\"tickers\":[{\"id\":\"1280\"},{\"id\":\"1281\"},{\"id\":\"1282\"},{\"id\":\"1283\"},{\"id\":\"1284\"},{\"id\":\"1285\"},{\"id\":\"1286\"},{\"id\":\"1287\"},{\"id\":\"1288\"},{\"id\":\"1289\"},{\"id\":\"1290\"},{\"id\":\"1291\"}]},\"id\":\"1210\",\"type\":\"DatetimeTicker\"},{\"attributes\":{\"line_color\":\"#1f77b4\",\"line_width\":2,\"x\":{\"field\":\"x\"},\"y\":{\"field\":\"y\"}},\"id\":\"1235\",\"type\":\"Line\"},{\"attributes\":{},\"id\":\"1279\",\"type\":\"UnionRenderers\"},{\"attributes\":{},\"id\":\"1273\",\"type\":\"AllLabels\"},{\"attributes\":{\"data_source\":{\"id\":\"1239\"},\"glyph\":{\"id\":\"1240\"},\"hover_glyph\":null,\"muted_glyph\":null,\"nonselection_glyph\":{\"id\":\"1241\"},\"view\":{\"id\":\"1243\"}},\"id\":\"1242\",\"type\":\"GlyphRenderer\"},{\"attributes\":{\"base\":24,\"mantissas\":[1,2,4,6,8,12],\"max_interval\":43200000.0,\"min_interval\":3600000.0,\"num_minor_ticks\":0},\"id\":\"1282\",\"type\":\"AdaptiveTicker\"},{\"attributes\":{\"source\":{\"id\":\"1234\"}},\"id\":\"1238\",\"type\":\"CDSView\"},{\"attributes\":{\"source\":{\"id\":\"1239\"}},\"id\":\"1243\",\"type\":\"CDSView\"},{\"attributes\":{},\"id\":\"1201\",\"type\":\"DataRange1d\"},{\"attributes\":{\"line_color\":\"orange\",\"line_width\":2,\"x\":{\"field\":\"x\"},\"y\":{\"field\":\"y\"}},\"id\":\"1240\",\"type\":\"Line\"},{\"attributes\":{\"callback\":null,\"formatters\":{\"@x\":\"datetime\"},\"mode\":\"vline\",\"tooltips\":[[\"date\",\"@x{%d-%m-%YT%H:%M:%S}\"],[\"value\",\"@y\"]]},\"id\":\"1197\",\"type\":\"HoverTool\"},{\"attributes\":{},\"id\":\"1220\",\"type\":\"ResetTool\"},{\"attributes\":{},\"id\":\"1203\",\"type\":\"DataRange1d\"},{\"attributes\":{},\"id\":\"1221\",\"type\":\"SaveTool\"},{\"attributes\":{},\"id\":\"1217\",\"type\":\"PanTool\"},{\"attributes\":{\"data\":{\"x\":{\"__ndarray__\":\"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\",\"dtype\":\"float64\",\"order\":\"little\",\"shape\":[1095]},\"y\":{\"__ndarray__\":\"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\",\"dtype\":\"float64\",\"order\":\"little\",\"shape\":[1095]}},\"selected\":{\"id\":\"1276\"},\"selection_policy\":{\"id\":\"1277\"}},\"id\":\"1234\",\"type\":\"ColumnDataSource\"},{\"attributes\":{},\"id\":\"1199\",\"type\":\"Title\"},{\"attributes\":{\"overlay\":{\"id\":\"1223\"}},\"id\":\"1222\",\"type\":\"BoxSelectTool\"},{\"attributes\":{},\"id\":\"1214\",\"type\":\"BasicTicker\"},{\"attributes\":{\"active_multi\":null,\"active_scroll\":{\"id\":\"1218\"},\"tools\":[{\"id\":\"1217\"},{\"id\":\"1218\"},{\"id\":\"1219\"},{\"id\":\"1220\"},{\"id\":\"1221\"},{\"id\":\"1222\"},{\"id\":\"1197\"}]},\"id\":\"1225\",\"type\":\"Toolbar\"},{\"attributes\":{\"data_source\":{\"id\":\"1234\"},\"glyph\":{\"id\":\"1235\"},\"hover_glyph\":null,\"muted_glyph\":null,\"nonselection_glyph\":{\"id\":\"1236\"},\"view\":{\"id\":\"1238\"}},\"id\":\"1237\",\"type\":\"GlyphRenderer\"},{\"attributes\":{\"axis\":{\"id\":\"1209\"},\"ticker\":null},\"id\":\"1212\",\"type\":\"Grid\"},{\"attributes\":{\"mantissas\":[1,2,5],\"max_interval\":500.0,\"num_minor_ticks\":0},\"id\":\"1280\",\"type\":\"AdaptiveTicker\"},{\"attributes\":{},\"id\":\"1218\",\"type\":\"WheelZoomTool\"},{\"attributes\":{\"base\":60,\"mantissas\":[1,2,5,10,15,20,30],\"max_interval\":1800000.0,\"min_interval\":1000.0,\"num_minor_ticks\":0},\"id\":\"1281\",\"type\":\"AdaptiveTicker\"},{\"attributes\":{\"axis_label\":\"time\",\"formatter\":{\"id\":\"1196\"},\"major_label_policy\":{\"id\":\"1273\"},\"ticker\":{\"id\":\"1210\"}},\"id\":\"1209\",\"type\":\"DatetimeAxis\"},{\"attributes\":{\"days\":[1,2,3,4,5,6,7,8,9,10,11,12,13,14,15,16,17,18,19,20,21,22,23,24,25,26,27,28,29,30,31]},\"id\":\"1283\",\"type\":\"DaysTicker\"},{\"attributes\":{\"days\":[\"%d %B %Y\"],\"hours\":[\"%d %B %Y\"],\"months\":[\"%d %B %Y\"],\"years\":[\"%d %B %Y\"]},\"id\":\"1196\",\"type\":\"DatetimeTickFormatter\"}],\"root_ids\":[\"1198\"]},\"title\":\"Bokeh Application\",\"version\":\"2.3.3\"}};\n",
       "  var render_items = [{\"docid\":\"7956bba8-3db6-47f0-ba08-709ddf972495\",\"root_ids\":[\"1198\"],\"roots\":{\"1198\":\"d3b84126-727b-4f2f-abc6-c4414be726a9\"}}];\n",
       "  root.Bokeh.embed.embed_items_notebook(docs_json, render_items);\n",
       "\n",
       "  }\n",
       "  if (root.Bokeh !== undefined) {\n",
       "    embed_document(root);\n",
       "  } else {\n",
       "    var attempts = 0;\n",
       "    var timer = setInterval(function(root) {\n",
       "      if (root.Bokeh !== undefined) {\n",
       "        clearInterval(timer);\n",
       "        embed_document(root);\n",
       "      } else {\n",
       "        attempts++;\n",
       "        if (attempts > 100) {\n",
       "          clearInterval(timer);\n",
       "          console.log(\"Bokeh: ERROR: Unable to run BokehJS code because BokehJS library is missing\");\n",
       "        }\n",
       "      }\n",
       "    }, 10, root)\n",
       "  }\n",
       "})(window);"
      ],
      "application/vnd.bokehjs_exec.v0+json": ""
     },
     "metadata": {
      "application/vnd.bokehjs_exec.v0+json": {
       "id": "1198"
      }
     },
     "output_type": "display_data"
    }
   ],
   "source": [
    "plot_ts(ts_test, preds)"
   ]
  },
  {
   "cell_type": "code",
   "execution_count": 28,
   "id": "electric-accident",
   "metadata": {},
   "outputs": [
    {
     "data": {
      "text/plain": [
       "5.647354373420765"
      ]
     },
     "execution_count": 28,
     "metadata": {},
     "output_type": "execute_result"
    }
   ],
   "source": [
    "mse(ts_test, preds)"
   ]
  },
  {
   "cell_type": "markdown",
   "id": "selective-natural",
   "metadata": {},
   "source": []
  },
  {
   "cell_type": "code",
   "execution_count": null,
   "id": "6d786077",
   "metadata": {},
   "outputs": [],
   "source": []
  }
 ],
 "metadata": {
  "kernelspec": {
   "display_name": "Python 3 (ipykernel)",
   "language": "python",
   "name": "python3"
  },
  "language_info": {
   "codemirror_mode": {
    "name": "ipython",
    "version": 3
   },
   "file_extension": ".py",
   "mimetype": "text/x-python",
   "name": "python",
   "nbconvert_exporter": "python",
   "pygments_lexer": "ipython3",
   "version": "3.8.2"
  }
 },
 "nbformat": 4,
 "nbformat_minor": 5
}
